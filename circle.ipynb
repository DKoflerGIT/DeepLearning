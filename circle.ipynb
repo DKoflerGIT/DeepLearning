{
 "cells": [
  {
   "cell_type": "code",
   "execution_count": null,
   "metadata": {},
   "outputs": [],
   "source": [
    "from library.classes import Neuron, Layer, Network_Model\n",
    "from library import helpers as hlp\n",
    "import math\n",
    "import matplotlib.pyplot as plt\n",
    "import numpy as np\n",
    "\n",
    "import pandas as pd"
   ]
  },
  {
   "cell_type": "code",
   "execution_count": null,
   "metadata": {},
   "outputs": [],
   "source": [
    "circle = []\n",
    "\n",
    "size = 30\n",
    "\n",
    "for i in range(int(-size/2), int(size/2)):\n",
    "    for j in range(int(-size/2), int(size/2)):\n",
    "        circle.append([i, j, 1 if (math.sqrt(i*i + j*j) <= (size/3)) else 0])\n",
    "\n",
    "df = pd.DataFrame(circle, columns=['x', 'y', 'inside'])\n",
    "\n",
    "np_array = np.array(circle)\n",
    "transpose = np_array.T\n",
    "transpose_list = transpose.tolist()\n",
    "\n",
    "plt.scatter(transpose_list[0], transpose_list[1], c=transpose_list[2])"
   ]
  },
  {
   "cell_type": "code",
   "execution_count": null,
   "metadata": {},
   "outputs": [],
   "source": [
    "x, y = hlp.split_input_output_data(df, ['x', 'y'], ['inside'])"
   ]
  },
  {
   "cell_type": "code",
   "execution_count": null,
   "metadata": {},
   "outputs": [],
   "source": [
    "x_n = hlp.normalize(x, -size, size, -1, 1)"
   ]
  },
  {
   "cell_type": "code",
   "execution_count": null,
   "metadata": {},
   "outputs": [],
   "source": [
    "mdl = Network_Model()\n",
    "mdl.add_layer(2)\n",
    "mdl.add_layer(16, 'tanh')\n",
    "mdl.add_layer(1, 'sigmoid')"
   ]
  },
  {
   "cell_type": "code",
   "execution_count": null,
   "metadata": {},
   "outputs": [],
   "source": [
    "history = mdl.train(x_n, y, epochs=100, debug=True, shuffle=True, learning_rate_n=1, learning_rate_p=1)\n",
    "hlp.plot_learning_curve(history)"
   ]
  },
  {
   "cell_type": "code",
   "execution_count": null,
   "metadata": {},
   "outputs": [],
   "source": [
    "pred = []\n",
    "\n",
    "for i in range(int(-size/2), int(size/2)):\n",
    "    for j in range(int(-size/2), int(size/2)):\n",
    "        input = [i/(size/2), j/(size/2)]\n",
    "        pred.append([i, j, mdl.predict(input)[0]])"
   ]
  },
  {
   "cell_type": "code",
   "execution_count": null,
   "metadata": {},
   "outputs": [],
   "source": [
    "np_array2 = np.array(pred)\n",
    "transpose2 = np_array2.T\n",
    "transpose_list2 = transpose2.tolist()\n",
    "\n",
    "plt.scatter(transpose_list2[0], transpose_list2[1], c=transpose_list2[2])"
   ]
  }
 ],
 "metadata": {
  "interpreter": {
   "hash": "f761d2206074d82dd8e41bd143266f9d3dcf5f45b684a45cd98ca9fdc4a46ee0"
  },
  "kernelspec": {
   "display_name": "Python 3.10.1 64-bit",
   "language": "python",
   "name": "python3"
  },
  "language_info": {
   "codemirror_mode": {
    "name": "ipython",
    "version": 3
   },
   "file_extension": ".py",
   "mimetype": "text/x-python",
   "name": "python",
   "nbconvert_exporter": "python",
   "pygments_lexer": "ipython3",
   "version": "3.10.1"
  },
  "orig_nbformat": 4
 },
 "nbformat": 4,
 "nbformat_minor": 2
}
