{
 "cells": [
  {
   "cell_type": "markdown",
   "metadata": {},
   "source": [
    "# Model to predict color from RGB value\n",
    "\n",
    "Feedforward neural network for supervised learning of rgb color values\n",
    "\n",
    "## Imports"
   ]
  },
  {
   "cell_type": "code",
   "execution_count": 20,
   "metadata": {},
   "outputs": [],
   "source": [
    "from library.classes import Neuron, Layer, Network_Model\n",
    "from library import helpers as hlp\n",
    "import rgb_helpers as chlp\n",
    "import pandas as pd"
   ]
  },
  {
   "cell_type": "markdown",
   "metadata": {},
   "source": [
    "## Preprocess input data\n",
    "\n",
    "The `pandas`-Library is used to preprocess input data.\n",
    "Firstly, data is read from an Excel-file."
   ]
  },
  {
   "cell_type": "code",
   "execution_count": 21,
   "metadata": {},
   "outputs": [
    {
     "data": {
      "text/html": [
       "<div>\n",
       "<style scoped>\n",
       "    .dataframe tbody tr th:only-of-type {\n",
       "        vertical-align: middle;\n",
       "    }\n",
       "\n",
       "    .dataframe tbody tr th {\n",
       "        vertical-align: top;\n",
       "    }\n",
       "\n",
       "    .dataframe thead th {\n",
       "        text-align: right;\n",
       "    }\n",
       "</style>\n",
       "<table border=\"1\" class=\"dataframe\">\n",
       "  <thead>\n",
       "    <tr style=\"text-align: right;\">\n",
       "      <th></th>\n",
       "      <th>Name</th>\n",
       "      <th>R</th>\n",
       "      <th>G</th>\n",
       "      <th>B</th>\n",
       "      <th>Beige</th>\n",
       "      <th>Yellow</th>\n",
       "      <th>Orange</th>\n",
       "      <th>Red</th>\n",
       "      <th>Purple</th>\n",
       "      <th>Blue</th>\n",
       "      <th>Green</th>\n",
       "      <th>Grey</th>\n",
       "      <th>Brown</th>\n",
       "      <th>White</th>\n",
       "      <th>Black</th>\n",
       "    </tr>\n",
       "  </thead>\n",
       "  <tbody>\n",
       "    <tr>\n",
       "      <th>0</th>\n",
       "      <td>Beige</td>\n",
       "      <td>138</td>\n",
       "      <td>102</td>\n",
       "      <td>66</td>\n",
       "      <td>1</td>\n",
       "      <td>0</td>\n",
       "      <td>0</td>\n",
       "      <td>0</td>\n",
       "      <td>0</td>\n",
       "      <td>0</td>\n",
       "      <td>0</td>\n",
       "      <td>0</td>\n",
       "      <td>0</td>\n",
       "      <td>0</td>\n",
       "      <td>0</td>\n",
       "    </tr>\n",
       "    <tr>\n",
       "      <th>1</th>\n",
       "      <td>Beige</td>\n",
       "      <td>169</td>\n",
       "      <td>131</td>\n",
       "      <td>7</td>\n",
       "      <td>1</td>\n",
       "      <td>0</td>\n",
       "      <td>0</td>\n",
       "      <td>0</td>\n",
       "      <td>0</td>\n",
       "      <td>0</td>\n",
       "      <td>0</td>\n",
       "      <td>0</td>\n",
       "      <td>0</td>\n",
       "      <td>0</td>\n",
       "      <td>0</td>\n",
       "    </tr>\n",
       "    <tr>\n",
       "      <th>2</th>\n",
       "      <td>Beige</td>\n",
       "      <td>190</td>\n",
       "      <td>189</td>\n",
       "      <td>127</td>\n",
       "      <td>1</td>\n",
       "      <td>0</td>\n",
       "      <td>0</td>\n",
       "      <td>0</td>\n",
       "      <td>0</td>\n",
       "      <td>0</td>\n",
       "      <td>0</td>\n",
       "      <td>0</td>\n",
       "      <td>0</td>\n",
       "      <td>0</td>\n",
       "      <td>0</td>\n",
       "    </tr>\n",
       "    <tr>\n",
       "      <th>3</th>\n",
       "      <td>Beige</td>\n",
       "      <td>194</td>\n",
       "      <td>176</td>\n",
       "      <td>120</td>\n",
       "      <td>1</td>\n",
       "      <td>0</td>\n",
       "      <td>0</td>\n",
       "      <td>0</td>\n",
       "      <td>0</td>\n",
       "      <td>0</td>\n",
       "      <td>0</td>\n",
       "      <td>0</td>\n",
       "      <td>0</td>\n",
       "      <td>0</td>\n",
       "      <td>0</td>\n",
       "    </tr>\n",
       "    <tr>\n",
       "      <th>4</th>\n",
       "      <td>Beige</td>\n",
       "      <td>198</td>\n",
       "      <td>166</td>\n",
       "      <td>100</td>\n",
       "      <td>1</td>\n",
       "      <td>0</td>\n",
       "      <td>0</td>\n",
       "      <td>0</td>\n",
       "      <td>0</td>\n",
       "      <td>0</td>\n",
       "      <td>0</td>\n",
       "      <td>0</td>\n",
       "      <td>0</td>\n",
       "      <td>0</td>\n",
       "      <td>0</td>\n",
       "    </tr>\n",
       "    <tr>\n",
       "      <th>...</th>\n",
       "      <td>...</td>\n",
       "      <td>...</td>\n",
       "      <td>...</td>\n",
       "      <td>...</td>\n",
       "      <td>...</td>\n",
       "      <td>...</td>\n",
       "      <td>...</td>\n",
       "      <td>...</td>\n",
       "      <td>...</td>\n",
       "      <td>...</td>\n",
       "      <td>...</td>\n",
       "      <td>...</td>\n",
       "      <td>...</td>\n",
       "      <td>...</td>\n",
       "      <td>...</td>\n",
       "    </tr>\n",
       "    <tr>\n",
       "      <th>208</th>\n",
       "      <td>Yellow</td>\n",
       "      <td>244</td>\n",
       "      <td>169</td>\n",
       "      <td>0</td>\n",
       "      <td>0</td>\n",
       "      <td>1</td>\n",
       "      <td>0</td>\n",
       "      <td>0</td>\n",
       "      <td>0</td>\n",
       "      <td>0</td>\n",
       "      <td>0</td>\n",
       "      <td>0</td>\n",
       "      <td>0</td>\n",
       "      <td>0</td>\n",
       "      <td>0</td>\n",
       "    </tr>\n",
       "    <tr>\n",
       "      <th>209</th>\n",
       "      <td>Yellow</td>\n",
       "      <td>245</td>\n",
       "      <td>208</td>\n",
       "      <td>51</td>\n",
       "      <td>0</td>\n",
       "      <td>1</td>\n",
       "      <td>0</td>\n",
       "      <td>0</td>\n",
       "      <td>0</td>\n",
       "      <td>0</td>\n",
       "      <td>0</td>\n",
       "      <td>0</td>\n",
       "      <td>0</td>\n",
       "      <td>0</td>\n",
       "      <td>0</td>\n",
       "    </tr>\n",
       "    <tr>\n",
       "      <th>210</th>\n",
       "      <td>Yellow</td>\n",
       "      <td>248</td>\n",
       "      <td>243</td>\n",
       "      <td>53</td>\n",
       "      <td>0</td>\n",
       "      <td>1</td>\n",
       "      <td>0</td>\n",
       "      <td>0</td>\n",
       "      <td>0</td>\n",
       "      <td>0</td>\n",
       "      <td>0</td>\n",
       "      <td>0</td>\n",
       "      <td>0</td>\n",
       "      <td>0</td>\n",
       "      <td>0</td>\n",
       "    </tr>\n",
       "    <tr>\n",
       "      <th>211</th>\n",
       "      <td>Yellow</td>\n",
       "      <td>250</td>\n",
       "      <td>210</td>\n",
       "      <td>1</td>\n",
       "      <td>0</td>\n",
       "      <td>1</td>\n",
       "      <td>0</td>\n",
       "      <td>0</td>\n",
       "      <td>0</td>\n",
       "      <td>0</td>\n",
       "      <td>0</td>\n",
       "      <td>0</td>\n",
       "      <td>0</td>\n",
       "      <td>0</td>\n",
       "      <td>0</td>\n",
       "    </tr>\n",
       "    <tr>\n",
       "      <th>212</th>\n",
       "      <td>Yellow</td>\n",
       "      <td>255</td>\n",
       "      <td>255</td>\n",
       "      <td>0</td>\n",
       "      <td>0</td>\n",
       "      <td>1</td>\n",
       "      <td>0</td>\n",
       "      <td>0</td>\n",
       "      <td>0</td>\n",
       "      <td>0</td>\n",
       "      <td>0</td>\n",
       "      <td>0</td>\n",
       "      <td>0</td>\n",
       "      <td>0</td>\n",
       "      <td>0</td>\n",
       "    </tr>\n",
       "  </tbody>\n",
       "</table>\n",
       "<p>213 rows × 15 columns</p>\n",
       "</div>"
      ],
      "text/plain": [
       "       Name    R    G    B  Beige  Yellow  Orange  Red  Purple  Blue  Green  \\\n",
       "0     Beige  138  102   66      1       0       0    0       0     0      0   \n",
       "1     Beige  169  131    7      1       0       0    0       0     0      0   \n",
       "2     Beige  190  189  127      1       0       0    0       0     0      0   \n",
       "3     Beige  194  176  120      1       0       0    0       0     0      0   \n",
       "4     Beige  198  166  100      1       0       0    0       0     0      0   \n",
       "..      ...  ...  ...  ...    ...     ...     ...  ...     ...   ...    ...   \n",
       "208  Yellow  244  169    0      0       1       0    0       0     0      0   \n",
       "209  Yellow  245  208   51      0       1       0    0       0     0      0   \n",
       "210  Yellow  248  243   53      0       1       0    0       0     0      0   \n",
       "211  Yellow  250  210    1      0       1       0    0       0     0      0   \n",
       "212  Yellow  255  255    0      0       1       0    0       0     0      0   \n",
       "\n",
       "     Grey  Brown  White  Black  \n",
       "0       0      0      0      0  \n",
       "1       0      0      0      0  \n",
       "2       0      0      0      0  \n",
       "3       0      0      0      0  \n",
       "4       0      0      0      0  \n",
       "..    ...    ...    ...    ...  \n",
       "208     0      0      0      0  \n",
       "209     0      0      0      0  \n",
       "210     0      0      0      0  \n",
       "211     0      0      0      0  \n",
       "212     0      0      0      0  \n",
       "\n",
       "[213 rows x 15 columns]"
      ]
     },
     "execution_count": 21,
     "metadata": {},
     "output_type": "execute_result"
    }
   ],
   "source": [
    "training_orig_df = pd.read_excel('datasets\\\\rgb.xlsx')\n",
    "training_orig_df"
   ]
  },
  {
   "cell_type": "code",
   "execution_count": 22,
   "metadata": {},
   "outputs": [],
   "source": [
    "training_df = training_orig_df.copy()\n",
    "training_df.drop(columns=['Name'], inplace=True)"
   ]
  },
  {
   "cell_type": "markdown",
   "metadata": {},
   "source": [
    "The data is then split into training and validation data using the `split_training_val_data()` function. Here a percentage can be set."
   ]
  },
  {
   "cell_type": "code",
   "execution_count": 23,
   "metadata": {},
   "outputs": [],
   "source": [
    "train_df, val_df = hlp.split_training_val_data(training_df, 0.2)"
   ]
  },
  {
   "cell_type": "markdown",
   "metadata": {},
   "source": [
    "The training and validation data are then split into input and output data using the `split_input_output_data()` function. The column headers of the training input have to specified."
   ]
  },
  {
   "cell_type": "code",
   "execution_count": 24,
   "metadata": {},
   "outputs": [],
   "source": [
    "x_columns = ['R', 'G', 'B']\n",
    "y_columns = ['Beige', 'Yellow', 'Orange', 'Red', 'Purple', 'Blue', 'Green', 'Grey', 'Brown', 'White', 'Black']\n",
    "\n",
    "train_df_x, train_df_y = hlp.split_input_output_data(train_df, x_columns, y_columns)\n",
    "val_df_x, val_df_y = hlp.split_input_output_data(val_df, x_columns, y_columns)"
   ]
  },
  {
   "cell_type": "code",
   "execution_count": 25,
   "metadata": {},
   "outputs": [],
   "source": [
    "train_df_x_norm = hlp.normalize(train_df_x, 0, 255, -1, 1)\n",
    "val_df_x_norm = hlp.normalize(val_df_x, 0, 255, -1, 1)"
   ]
  },
  {
   "cell_type": "code",
   "execution_count": 26,
   "metadata": {},
   "outputs": [
    {
     "data": {
      "text/html": [
       "<div>\n",
       "<style scoped>\n",
       "    .dataframe tbody tr th:only-of-type {\n",
       "        vertical-align: middle;\n",
       "    }\n",
       "\n",
       "    .dataframe tbody tr th {\n",
       "        vertical-align: top;\n",
       "    }\n",
       "\n",
       "    .dataframe thead th {\n",
       "        text-align: right;\n",
       "    }\n",
       "</style>\n",
       "<table border=\"1\" class=\"dataframe\">\n",
       "  <thead>\n",
       "    <tr style=\"text-align: right;\">\n",
       "      <th></th>\n",
       "      <th>R</th>\n",
       "      <th>G</th>\n",
       "      <th>B</th>\n",
       "    </tr>\n",
       "  </thead>\n",
       "  <tbody>\n",
       "    <tr>\n",
       "      <th>0</th>\n",
       "      <td>0.082353</td>\n",
       "      <td>-0.200000</td>\n",
       "      <td>-0.482353</td>\n",
       "    </tr>\n",
       "    <tr>\n",
       "      <th>1</th>\n",
       "      <td>0.325490</td>\n",
       "      <td>0.027451</td>\n",
       "      <td>-0.945098</td>\n",
       "    </tr>\n",
       "    <tr>\n",
       "      <th>2</th>\n",
       "      <td>0.490196</td>\n",
       "      <td>0.482353</td>\n",
       "      <td>-0.003922</td>\n",
       "    </tr>\n",
       "    <tr>\n",
       "      <th>3</th>\n",
       "      <td>0.521569</td>\n",
       "      <td>0.380392</td>\n",
       "      <td>-0.058824</td>\n",
       "    </tr>\n",
       "    <tr>\n",
       "      <th>4</th>\n",
       "      <td>0.725490</td>\n",
       "      <td>0.223529</td>\n",
       "      <td>-1.000000</td>\n",
       "    </tr>\n",
       "    <tr>\n",
       "      <th>...</th>\n",
       "      <td>...</td>\n",
       "      <td>...</td>\n",
       "      <td>...</td>\n",
       "    </tr>\n",
       "    <tr>\n",
       "      <th>165</th>\n",
       "      <td>0.905882</td>\n",
       "      <td>0.294118</td>\n",
       "      <td>-0.960784</td>\n",
       "    </tr>\n",
       "    <tr>\n",
       "      <th>166</th>\n",
       "      <td>0.905882</td>\n",
       "      <td>0.709804</td>\n",
       "      <td>-0.913725</td>\n",
       "    </tr>\n",
       "    <tr>\n",
       "      <th>167</th>\n",
       "      <td>0.921569</td>\n",
       "      <td>0.631373</td>\n",
       "      <td>-0.600000</td>\n",
       "    </tr>\n",
       "    <tr>\n",
       "      <th>168</th>\n",
       "      <td>0.945098</td>\n",
       "      <td>0.905882</td>\n",
       "      <td>-0.584314</td>\n",
       "    </tr>\n",
       "    <tr>\n",
       "      <th>169</th>\n",
       "      <td>0.960784</td>\n",
       "      <td>0.647059</td>\n",
       "      <td>-0.992157</td>\n",
       "    </tr>\n",
       "  </tbody>\n",
       "</table>\n",
       "<p>170 rows × 3 columns</p>\n",
       "</div>"
      ],
      "text/plain": [
       "            R         G         B\n",
       "0    0.082353 -0.200000 -0.482353\n",
       "1    0.325490  0.027451 -0.945098\n",
       "2    0.490196  0.482353 -0.003922\n",
       "3    0.521569  0.380392 -0.058824\n",
       "4    0.725490  0.223529 -1.000000\n",
       "..        ...       ...       ...\n",
       "165  0.905882  0.294118 -0.960784\n",
       "166  0.905882  0.709804 -0.913725\n",
       "167  0.921569  0.631373 -0.600000\n",
       "168  0.945098  0.905882 -0.584314\n",
       "169  0.960784  0.647059 -0.992157\n",
       "\n",
       "[170 rows x 3 columns]"
      ]
     },
     "execution_count": 26,
     "metadata": {},
     "output_type": "execute_result"
    }
   ],
   "source": [
    "train_df_x_norm"
   ]
  },
  {
   "cell_type": "markdown",
   "metadata": {},
   "source": [
    "## Instanciate a model\n",
    "\n",
    "`add_layer()` adds a new layer to the model. The amount of neurons and the desired activation function can be set. Layer 0 is automatically set to be the input layer. Weights and biases are randomly assigned."
   ]
  },
  {
   "cell_type": "code",
   "execution_count": 27,
   "metadata": {},
   "outputs": [],
   "source": [
    "mdl = Network_Model()\n",
    "mdl.add_layer(3)\n",
    "mdl.add_layer(16, activation_function='sigmoid')\n",
    "mdl.add_layer(11, activation_function='sigmoid')"
   ]
  },
  {
   "cell_type": "markdown",
   "metadata": {},
   "source": [
    "Using `plot_network()`, the Model can be visualized."
   ]
  },
  {
   "cell_type": "code",
   "execution_count": 28,
   "metadata": {},
   "outputs": [
    {
     "data": {
      "text/markdown": [
       "<div style=\"border-style:outset; border-radius: 1ex; border-color: white; padding: 0.5ex; text-align: center; float: left; margin: 0.25ex; width: fit-content\">(0, 1)<br>net 0<br>act 0<br>out 0</div><div style=\"border-style:outset; border-radius: 1ex; border-color: white; padding: 0.5ex; text-align: center; float: left; margin: 0.25ex; width: fit-content\">(0, 2)<br>net 0<br>act 0<br>out 0</div><div style=\"border-style:outset; border-radius: 1ex; border-color: white; padding: 0.5ex; text-align: center; float: left; margin: 0.25ex; width: fit-content\">(0, 3)<br>net 0<br>act 0<br>out 0</div>"
      ],
      "text/plain": [
       "<IPython.core.display.Markdown object>"
      ]
     },
     "metadata": {},
     "output_type": "display_data"
    },
    {
     "data": {
      "text/markdown": [
       "<div style=\"border-style:outset; border-radius: 1ex; border-color: white; padding: 0.5ex; text-align: center; float: left; margin: 0.25ex; width: fit-content\">(1, 1)<br>net 0<br>act 0<br>out 0</div><div style=\"border-style:outset; border-radius: 1ex; border-color: white; padding: 0.5ex; text-align: center; float: left; margin: 0.25ex; width: fit-content\">(1, 2)<br>net 0<br>act 0<br>out 0</div><div style=\"border-style:outset; border-radius: 1ex; border-color: white; padding: 0.5ex; text-align: center; float: left; margin: 0.25ex; width: fit-content\">(1, 3)<br>net 0<br>act 0<br>out 0</div><div style=\"border-style:outset; border-radius: 1ex; border-color: white; padding: 0.5ex; text-align: center; float: left; margin: 0.25ex; width: fit-content\">(1, 4)<br>net 0<br>act 0<br>out 0</div><div style=\"border-style:outset; border-radius: 1ex; border-color: white; padding: 0.5ex; text-align: center; float: left; margin: 0.25ex; width: fit-content\">(1, 5)<br>net 0<br>act 0<br>out 0</div><div style=\"border-style:outset; border-radius: 1ex; border-color: white; padding: 0.5ex; text-align: center; float: left; margin: 0.25ex; width: fit-content\">(1, 6)<br>net 0<br>act 0<br>out 0</div><div style=\"border-style:outset; border-radius: 1ex; border-color: white; padding: 0.5ex; text-align: center; float: left; margin: 0.25ex; width: fit-content\">(1, 7)<br>net 0<br>act 0<br>out 0</div><div style=\"border-style:outset; border-radius: 1ex; border-color: white; padding: 0.5ex; text-align: center; float: left; margin: 0.25ex; width: fit-content\">(1, 8)<br>net 0<br>act 0<br>out 0</div><div style=\"border-style:outset; border-radius: 1ex; border-color: white; padding: 0.5ex; text-align: center; float: left; margin: 0.25ex; width: fit-content\">(1, 9)<br>net 0<br>act 0<br>out 0</div><div style=\"border-style:outset; border-radius: 1ex; border-color: white; padding: 0.5ex; text-align: center; float: left; margin: 0.25ex; width: fit-content\">(1, 10)<br>net 0<br>act 0<br>out 0</div><div style=\"border-style:outset; border-radius: 1ex; border-color: white; padding: 0.5ex; text-align: center; float: left; margin: 0.25ex; width: fit-content\">(1, 11)<br>net 0<br>act 0<br>out 0</div><div style=\"border-style:outset; border-radius: 1ex; border-color: white; padding: 0.5ex; text-align: center; float: left; margin: 0.25ex; width: fit-content\">(1, 12)<br>net 0<br>act 0<br>out 0</div><div style=\"border-style:outset; border-radius: 1ex; border-color: white; padding: 0.5ex; text-align: center; float: left; margin: 0.25ex; width: fit-content\">(1, 13)<br>net 0<br>act 0<br>out 0</div><div style=\"border-style:outset; border-radius: 1ex; border-color: white; padding: 0.5ex; text-align: center; float: left; margin: 0.25ex; width: fit-content\">(1, 14)<br>net 0<br>act 0<br>out 0</div><div style=\"border-style:outset; border-radius: 1ex; border-color: white; padding: 0.5ex; text-align: center; float: left; margin: 0.25ex; width: fit-content\">(1, 15)<br>net 0<br>act 0<br>out 0</div><div style=\"border-style:outset; border-radius: 1ex; border-color: white; padding: 0.5ex; text-align: center; float: left; margin: 0.25ex; width: fit-content\">(1, 16)<br>net 0<br>act 0<br>out 0</div>"
      ],
      "text/plain": [
       "<IPython.core.display.Markdown object>"
      ]
     },
     "metadata": {},
     "output_type": "display_data"
    },
    {
     "data": {
      "text/markdown": [
       "<div style=\"border-style:outset; border-radius: 1ex; border-color: white; padding: 0.5ex; text-align: center; float: left; margin: 0.25ex; width: fit-content\">(2, 1)<br>net 0<br>act 0<br>out 0</div><div style=\"border-style:outset; border-radius: 1ex; border-color: white; padding: 0.5ex; text-align: center; float: left; margin: 0.25ex; width: fit-content\">(2, 2)<br>net 0<br>act 0<br>out 0</div><div style=\"border-style:outset; border-radius: 1ex; border-color: white; padding: 0.5ex; text-align: center; float: left; margin: 0.25ex; width: fit-content\">(2, 3)<br>net 0<br>act 0<br>out 0</div><div style=\"border-style:outset; border-radius: 1ex; border-color: white; padding: 0.5ex; text-align: center; float: left; margin: 0.25ex; width: fit-content\">(2, 4)<br>net 0<br>act 0<br>out 0</div><div style=\"border-style:outset; border-radius: 1ex; border-color: white; padding: 0.5ex; text-align: center; float: left; margin: 0.25ex; width: fit-content\">(2, 5)<br>net 0<br>act 0<br>out 0</div><div style=\"border-style:outset; border-radius: 1ex; border-color: white; padding: 0.5ex; text-align: center; float: left; margin: 0.25ex; width: fit-content\">(2, 6)<br>net 0<br>act 0<br>out 0</div><div style=\"border-style:outset; border-radius: 1ex; border-color: white; padding: 0.5ex; text-align: center; float: left; margin: 0.25ex; width: fit-content\">(2, 7)<br>net 0<br>act 0<br>out 0</div><div style=\"border-style:outset; border-radius: 1ex; border-color: white; padding: 0.5ex; text-align: center; float: left; margin: 0.25ex; width: fit-content\">(2, 8)<br>net 0<br>act 0<br>out 0</div><div style=\"border-style:outset; border-radius: 1ex; border-color: white; padding: 0.5ex; text-align: center; float: left; margin: 0.25ex; width: fit-content\">(2, 9)<br>net 0<br>act 0<br>out 0</div><div style=\"border-style:outset; border-radius: 1ex; border-color: white; padding: 0.5ex; text-align: center; float: left; margin: 0.25ex; width: fit-content\">(2, 10)<br>net 0<br>act 0<br>out 0</div><div style=\"border-style:outset; border-radius: 1ex; border-color: white; padding: 0.5ex; text-align: center; float: left; margin: 0.25ex; width: fit-content\">(2, 11)<br>net 0<br>act 0<br>out 0</div>"
      ],
      "text/plain": [
       "<IPython.core.display.Markdown object>"
      ]
     },
     "metadata": {},
     "output_type": "display_data"
    }
   ],
   "source": [
    "mdl.plot_network()"
   ]
  },
  {
   "cell_type": "markdown",
   "metadata": {},
   "source": [
    "Using `get_weights()`, the weights can be displayed. Weihts of row 0 are weights of the bias neuron of the respective layer."
   ]
  },
  {
   "cell_type": "code",
   "execution_count": 29,
   "metadata": {},
   "outputs": [
    {
     "data": {
      "text/html": [
       "<div>\n",
       "<style scoped>\n",
       "    .dataframe tbody tr th:only-of-type {\n",
       "        vertical-align: middle;\n",
       "    }\n",
       "\n",
       "    .dataframe tbody tr th {\n",
       "        vertical-align: top;\n",
       "    }\n",
       "\n",
       "    .dataframe thead th {\n",
       "        text-align: right;\n",
       "    }\n",
       "</style>\n",
       "<table border=\"1\" class=\"dataframe\">\n",
       "  <thead>\n",
       "    <tr style=\"text-align: right;\">\n",
       "      <th></th>\n",
       "      <th>0</th>\n",
       "      <th>1</th>\n",
       "      <th>2</th>\n",
       "      <th>3</th>\n",
       "      <th>4</th>\n",
       "      <th>5</th>\n",
       "      <th>6</th>\n",
       "      <th>7</th>\n",
       "      <th>8</th>\n",
       "      <th>9</th>\n",
       "      <th>10</th>\n",
       "      <th>11</th>\n",
       "      <th>12</th>\n",
       "      <th>13</th>\n",
       "      <th>14</th>\n",
       "      <th>15</th>\n",
       "    </tr>\n",
       "  </thead>\n",
       "  <tbody>\n",
       "    <tr>\n",
       "      <th>0</th>\n",
       "      <td>-0.870282</td>\n",
       "      <td>-0.279918</td>\n",
       "      <td>-0.700696</td>\n",
       "      <td>0.175573</td>\n",
       "      <td>-0.228593</td>\n",
       "      <td>0.025009</td>\n",
       "      <td>-0.991205</td>\n",
       "      <td>-0.656371</td>\n",
       "      <td>0.683047</td>\n",
       "      <td>0.529422</td>\n",
       "      <td>0.275638</td>\n",
       "      <td>-0.744799</td>\n",
       "      <td>-0.210067</td>\n",
       "      <td>-0.572151</td>\n",
       "      <td>-0.565868</td>\n",
       "      <td>-0.401526</td>\n",
       "    </tr>\n",
       "    <tr>\n",
       "      <th>1</th>\n",
       "      <td>-0.490751</td>\n",
       "      <td>-0.124323</td>\n",
       "      <td>0.507952</td>\n",
       "      <td>-0.681253</td>\n",
       "      <td>0.768375</td>\n",
       "      <td>0.975215</td>\n",
       "      <td>-0.759778</td>\n",
       "      <td>-0.773364</td>\n",
       "      <td>0.051035</td>\n",
       "      <td>0.902156</td>\n",
       "      <td>-0.804472</td>\n",
       "      <td>0.604993</td>\n",
       "      <td>-0.844777</td>\n",
       "      <td>-0.543282</td>\n",
       "      <td>-0.565646</td>\n",
       "      <td>-0.211427</td>\n",
       "    </tr>\n",
       "    <tr>\n",
       "      <th>2</th>\n",
       "      <td>0.821223</td>\n",
       "      <td>0.945568</td>\n",
       "      <td>-0.117919</td>\n",
       "      <td>-0.125696</td>\n",
       "      <td>-0.677854</td>\n",
       "      <td>0.766994</td>\n",
       "      <td>-0.358532</td>\n",
       "      <td>0.089227</td>\n",
       "      <td>-0.394064</td>\n",
       "      <td>0.099724</td>\n",
       "      <td>0.165733</td>\n",
       "      <td>-0.916843</td>\n",
       "      <td>-0.514110</td>\n",
       "      <td>0.559056</td>\n",
       "      <td>-0.888872</td>\n",
       "      <td>0.617288</td>\n",
       "    </tr>\n",
       "    <tr>\n",
       "      <th>3</th>\n",
       "      <td>0.893879</td>\n",
       "      <td>-0.062337</td>\n",
       "      <td>0.637985</td>\n",
       "      <td>0.293797</td>\n",
       "      <td>-0.185058</td>\n",
       "      <td>0.459252</td>\n",
       "      <td>-0.268291</td>\n",
       "      <td>-0.969029</td>\n",
       "      <td>0.486379</td>\n",
       "      <td>-0.773662</td>\n",
       "      <td>0.562685</td>\n",
       "      <td>0.690217</td>\n",
       "      <td>-0.857529</td>\n",
       "      <td>0.739922</td>\n",
       "      <td>-0.151382</td>\n",
       "      <td>-0.522886</td>\n",
       "    </tr>\n",
       "  </tbody>\n",
       "</table>\n",
       "</div>"
      ],
      "text/plain": [
       "         0         1         2         3         4         5         6   \\\n",
       "0 -0.870282 -0.279918 -0.700696  0.175573 -0.228593  0.025009 -0.991205   \n",
       "1 -0.490751 -0.124323  0.507952 -0.681253  0.768375  0.975215 -0.759778   \n",
       "2  0.821223  0.945568 -0.117919 -0.125696 -0.677854  0.766994 -0.358532   \n",
       "3  0.893879 -0.062337  0.637985  0.293797 -0.185058  0.459252 -0.268291   \n",
       "\n",
       "         7         8         9         10        11        12        13  \\\n",
       "0 -0.656371  0.683047  0.529422  0.275638 -0.744799 -0.210067 -0.572151   \n",
       "1 -0.773364  0.051035  0.902156 -0.804472  0.604993 -0.844777 -0.543282   \n",
       "2  0.089227 -0.394064  0.099724  0.165733 -0.916843 -0.514110  0.559056   \n",
       "3 -0.969029  0.486379 -0.773662  0.562685  0.690217 -0.857529  0.739922   \n",
       "\n",
       "         14        15  \n",
       "0 -0.565868 -0.401526  \n",
       "1 -0.565646 -0.211427  \n",
       "2 -0.888872  0.617288  \n",
       "3 -0.151382 -0.522886  "
      ]
     },
     "execution_count": 29,
     "metadata": {},
     "output_type": "execute_result"
    }
   ],
   "source": [
    "mdl.layers[1].get_weights()"
   ]
  },
  {
   "cell_type": "markdown",
   "metadata": {},
   "source": [
    "Using the `predict()` method, a prediction is made based on a given input-vector. Since the model is not trained yet, the output is random."
   ]
  },
  {
   "cell_type": "code",
   "execution_count": 30,
   "metadata": {},
   "outputs": [
    {
     "name": "stdout",
     "output_type": "stream",
     "text": [
      "Black\n"
     ]
    },
    {
     "data": {
      "text/markdown": [
       "<div style=\"height: 100px; width: 100px; background-color: rgb(255.0,0.0,0.0);\"></div>"
      ],
      "text/plain": [
       "<IPython.core.display.Markdown object>"
      ]
     },
     "metadata": {},
     "output_type": "display_data"
    }
   ],
   "source": [
    "rgb = [255, 0, 0]\n",
    "input = chlp.rgb_to_norm(rgb)\n",
    "pred = mdl.predict(input)\n",
    "print(y_columns[pred.index(max(pred))])\n",
    "chlp.plot_color(input)"
   ]
  },
  {
   "cell_type": "markdown",
   "metadata": {},
   "source": [
    "## Training the model\n",
    "\n",
    "Using *backpropagation of error* the model can be trained using the `train()` method. Arguments:\n",
    "- **train_df_x**: Training set *p* of type *pandas.Dataframe*<br>\n",
    "- **train_df_y**: Training input *t* of type *pandas.Dataframe*<br>\n",
    "- **mode**: Mode of error evaluation, can be 'online' or 'offline', of type *string*<br>\n",
    "- **epochs**: Number of epochs during the training, of type *int*<br>\n",
    "- **learning_rate**: Learning rate $ \\eta $ of the training session, $ 0 < \\eta < 1 $, of type *float*"
   ]
  },
  {
   "cell_type": "code",
   "execution_count": 34,
   "metadata": {},
   "outputs": [],
   "source": [
    "history = mdl.train(train_df_x_norm, train_df_y, epochs=100, debug=False, learning_rate=0.5)"
   ]
  },
  {
   "cell_type": "markdown",
   "metadata": {},
   "source": [
    "#### Learning curve\n",
    "\n",
    "The cumulative error over time can be plotted using the `plot_learning_curve()` method from the `helpers` module."
   ]
  },
  {
   "cell_type": "code",
   "execution_count": 35,
   "metadata": {},
   "outputs": [
    {
     "data": {
      "image/png": "[encoded data removed]",
      "text/plain": [
       "<Figure size 432x288 with 1 Axes>"
      ]
     },
     "metadata": {
      "needs_background": "light"
     },
     "output_type": "display_data"
    }
   ],
   "source": [
    "hlp.plot_learning_curve(history, 'epoch', 'cumulative error', 'learning curve')"
   ]
  },
  {
   "cell_type": "markdown",
   "metadata": {},
   "source": [
    "#### Prediction\n",
    "\n",
    "Using the trained model, more accurate predictions can now be made."
   ]
  },
  {
   "cell_type": "code",
   "execution_count": 36,
   "metadata": {},
   "outputs": [
    {
     "name": "stdout",
     "output_type": "stream",
     "text": [
      "Purple\n"
     ]
    },
    {
     "data": {
      "text/markdown": [
       "<div style=\"height: 100px; width: 100px; background-color: rgb(173.39999999999998,90.52499999999999,136.425);\"></div>"
      ],
      "text/plain": [
       "<IPython.core.display.Markdown object>"
      ]
     },
     "metadata": {},
     "output_type": "display_data"
    }
   ],
   "source": [
    "rgb = [174, 90, 137] # https://www.w3schools.com/colors/colors_rgb.asp\n",
    "input = chlp.rgb_to_norm(rgb)\n",
    "pred = mdl.predict(input) # Possible Color Predictions: Beige, Yellow, Orange, Red, Purple, Blue, Green, Grey, Brown, White, Black\n",
    "print(y_columns[pred.index(max(pred))])\n",
    "chlp.plot_color(input)"
   ]
  },
  {
   "cell_type": "markdown",
   "metadata": {},
   "source": []
  }
 ],
 "metadata": {
  "interpreter": {
   "hash": "f761d2206074d82dd8e41bd143266f9d3dcf5f45b684a45cd98ca9fdc4a46ee0"
  },
  "kernelspec": {
   "display_name": "Python 3.10.1 64-bit",
   "language": "python",
   "name": "python3"
  },
  "language_info": {
   "codemirror_mode": {
    "name": "ipython",
    "version": 3
   },
   "file_extension": ".py",
   "mimetype": "text/x-python",
   "name": "python",
   "nbconvert_exporter": "python",
   "pygments_lexer": "ipython3",
   "version": "3.10.1"
  },
  "orig_nbformat": 4
 },
 "nbformat": 4,
 "nbformat_minor": 2
}
