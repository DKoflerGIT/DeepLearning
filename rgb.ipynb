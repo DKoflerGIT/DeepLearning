{
 "cells": [
  {
   "cell_type": "markdown",
   "metadata": {},
   "source": [
    "# Model to predict color from RGB value\n",
    "\n",
    "Feedforward neural network for supervised learning of rgb color values\n",
    "\n",
    "## Imports"
   ]
  },
  {
   "cell_type": "code",
   "execution_count": null,
   "metadata": {},
   "outputs": [],
   "source": [
    "from model.classes import Neuron, Layer, Network_Model\n",
    "from model import helpers as hlp\n",
    "import rgb.rgb_helpers as chlp\n",
    "import pandas as pd"
   ]
  },
  {
   "cell_type": "markdown",
   "metadata": {},
   "source": [
    "## Preprocess input data\n",
    "\n",
    "The `pandas`-Library is used to preprocess input data.\n",
    "Firstly, data is read from an Excel-file."
   ]
  },
  {
   "cell_type": "code",
   "execution_count": null,
   "metadata": {},
   "outputs": [],
   "source": [
    "training_orig_df = pd.read_excel('datasets\\\\rgb.xlsx')\n",
    "training_orig_df"
   ]
  },
  {
   "cell_type": "code",
   "execution_count": null,
   "metadata": {},
   "outputs": [],
   "source": [
    "training_df = training_orig_df.copy()\n",
    "training_df.drop(columns=['Name'], inplace=True)"
   ]
  },
  {
   "cell_type": "markdown",
   "metadata": {},
   "source": [
    "The data is then split into training and validation data using the `split_training_val_data()` function. Here a percentage can be set."
   ]
  },
  {
   "cell_type": "code",
   "execution_count": null,
   "metadata": {},
   "outputs": [],
   "source": [
    "train_df, val_df = hlp.split_training_val_data(training_df, 0.2)"
   ]
  },
  {
   "cell_type": "markdown",
   "metadata": {},
   "source": [
    "The training and validation data are then split into input and output data using the `split_input_output_data()` function. The column headers of the training input have to specified."
   ]
  },
  {
   "cell_type": "code",
   "execution_count": null,
   "metadata": {},
   "outputs": [],
   "source": [
    "x_columns = ['R', 'G', 'B']\n",
    "y_columns = ['Beige', 'Yellow', 'Orange', 'Red', 'Purple', 'Blue', 'Green', 'Grey', 'Brown', 'White', 'Black']\n",
    "\n",
    "train_df_x, train_df_y = hlp.split_input_output_data(train_df, x_columns, y_columns)\n",
    "val_df_x, val_df_y = hlp.split_input_output_data(val_df, x_columns, y_columns)"
   ]
  },
  {
   "cell_type": "code",
   "execution_count": null,
   "metadata": {},
   "outputs": [],
   "source": [
    "train_df_x_norm = hlp.normalize(train_df_x, 0, 255, -1, 1)\n",
    "val_df_x_norm = hlp.normalize(val_df_x, 0, 255, -1, 1)"
   ]
  },
  {
   "cell_type": "code",
   "execution_count": null,
   "metadata": {},
   "outputs": [],
   "source": [
    "train_df_x_norm"
   ]
  },
  {
   "cell_type": "markdown",
   "metadata": {},
   "source": [
    "## Instanciate a model\n",
    "\n",
    "`add_layer()` adds a new layer to the model. The amount of neurons and the desired activation function can be set. Layer 0 is automatically set to be the input layer. Weights and biases are randomly assigned."
   ]
  },
  {
   "cell_type": "code",
   "execution_count": null,
   "metadata": {},
   "outputs": [],
   "source": [
    "mdl_rgb = Network_Model()\n",
    "mdl_rgb.add_layer(3)\n",
    "mdl_rgb.add_layer(16, activation_function='sigmoid')\n",
    "mdl_rgb.add_layer(11, activation_function='sigmoid')"
   ]
  },
  {
   "cell_type": "markdown",
   "metadata": {},
   "source": [
    "Using `plot_network()`, the Model can be visualized."
   ]
  },
  {
   "cell_type": "code",
   "execution_count": null,
   "metadata": {},
   "outputs": [],
   "source": [
    "mdl_rgb.plot_network()"
   ]
  },
  {
   "cell_type": "markdown",
   "metadata": {},
   "source": [
    "Using `get_weights()`, the weights can be displayed. Weihts of row 0 are weights of the bias neuron of the respective layer."
   ]
  },
  {
   "cell_type": "code",
   "execution_count": null,
   "metadata": {},
   "outputs": [],
   "source": [
    "mdl_rgb.layers[1].get_weights()"
   ]
  },
  {
   "cell_type": "markdown",
   "metadata": {},
   "source": [
    "Using the `predict()` method, a prediction is made based on a given input-vector. Since the model is not trained yet, the output is random."
   ]
  },
  {
   "cell_type": "code",
   "execution_count": null,
   "metadata": {},
   "outputs": [],
   "source": [
    "rgb = [255, 0, 0]\n",
    "input = chlp.rgb_to_norm(rgb)\n",
    "pred = mdl_rgb.predict(input)\n",
    "print(y_columns[pred.index(max(pred))])\n",
    "chlp.plot_color(input)"
   ]
  },
  {
   "cell_type": "markdown",
   "metadata": {},
   "source": [
    "## Training the model\n",
    "\n",
    "Using *backpropagation of error* the model can be trained using the `train()` method. Arguments:\n",
    "- **train_df_x**: Training set *p* of type *pandas.Dataframe*<br>\n",
    "- **train_df_y**: Training input *t* of type *pandas.Dataframe*<br>\n",
    "- **mode**: Mode of error evaluation, can be 'online' or 'offline', of type *string*<br>\n",
    "- **epochs**: Number of epochs during the training, of type *int*<br>\n",
    "- **learning_rate**: Learning rate $ \\eta $ of the training session, $ 0 < \\eta < 1 $, of type *float*"
   ]
  },
  {
   "cell_type": "code",
   "execution_count": null,
   "metadata": {},
   "outputs": [],
   "source": [
    "history = mdl_rgb.train(train_df_x_norm, train_df_y, epochs=200, debug=True, shuffle=True, learning_rate_p=1.3, learning_rate_n=0.7, momentum_factor=0.6)"
   ]
  },
  {
   "cell_type": "markdown",
   "metadata": {},
   "source": [
    "#### Learning curve\n",
    "\n",
    "The cumulative error over time can be plotted using the `plot_learning_curve()` method from the `helpers` module."
   ]
  },
  {
   "cell_type": "code",
   "execution_count": null,
   "metadata": {},
   "outputs": [],
   "source": [
    "hlp.plot_learning_curve(history, 'Epochs', 'Average Error', 'Learning Curve')"
   ]
  },
  {
   "cell_type": "markdown",
   "metadata": {},
   "source": [
    "#### Prediction\n",
    "\n",
    "Using the trained model, more accurate predictions can now be made."
   ]
  },
  {
   "cell_type": "code",
   "execution_count": null,
   "metadata": {},
   "outputs": [],
   "source": [
    "rgb = [140, 50, 180] # https://www.w3schools.com/colors/colors_rgb.asp\n",
    "input = chlp.rgb_to_norm(rgb)\n",
    "pred = mdl_rgb.predict(input) # Possible Color Predictions: Beige, Yellow, Orange, Red, Purple, Blue, Green, Grey, Brown, White, Black\n",
    "print(y_columns[pred.index(max(pred))])\n",
    "chlp.plot_color(input)"
   ]
  }
 ],
 "metadata": {
  "interpreter": {
   "hash": "f761d2206074d82dd8e41bd143266f9d3dcf5f45b684a45cd98ca9fdc4a46ee0"
  },
  "kernelspec": {
   "display_name": "Python 3.10.1 64-bit",
   "language": "python",
   "name": "python3"
  },
  "language_info": {
   "codemirror_mode": {
    "name": "ipython",
    "version": 3
   },
   "file_extension": ".py",
   "mimetype": "text/x-python",
   "name": "python",
   "nbconvert_exporter": "python",
   "pygments_lexer": "ipython3",
   "version": "3.10.1"
  },
  "orig_nbformat": 4
 },
 "nbformat": 4,
 "nbformat_minor": 2
}
