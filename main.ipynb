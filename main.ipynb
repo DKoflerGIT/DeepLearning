{
 "cells": [
  {
   "cell_type": "markdown",
   "metadata": {},
   "source": [
    "# Library for neural networks\n",
    "\n",
    "Feedforward neural networks for supervised learning\n",
    "\n",
    "## Imports"
   ]
  },
  {
   "cell_type": "code",
   "execution_count": 39,
   "metadata": {},
   "outputs": [],
   "source": [
    "from library.classes import Neuron, Layer, Network_Model\n",
    "from library import helpers as hlp\n",
    "import color_helpers as chlp\n",
    "import pandas as pd\n",
    "import matplotlib.pyplot as plt"
   ]
  },
  {
   "cell_type": "markdown",
   "metadata": {},
   "source": [
    "## Preprocess input data\n",
    "\n",
    "The `pandas`-Library is used to preprocess input data.\n",
    "Firstly, data is read from an Excel-file."
   ]
  },
  {
   "cell_type": "code",
   "execution_count": 40,
   "metadata": {},
   "outputs": [
    {
     "data": {
      "text/html": [
       "<div>\n",
       "<style scoped>\n",
       "    .dataframe tbody tr th:only-of-type {\n",
       "        vertical-align: middle;\n",
       "    }\n",
       "\n",
       "    .dataframe tbody tr th {\n",
       "        vertical-align: top;\n",
       "    }\n",
       "\n",
       "    .dataframe thead th {\n",
       "        text-align: right;\n",
       "    }\n",
       "</style>\n",
       "<table border=\"1\" class=\"dataframe\">\n",
       "  <thead>\n",
       "    <tr style=\"text-align: right;\">\n",
       "      <th></th>\n",
       "      <th>Name</th>\n",
       "      <th>R</th>\n",
       "      <th>G</th>\n",
       "      <th>B</th>\n",
       "      <th>Beige</th>\n",
       "      <th>Yellow</th>\n",
       "      <th>Orange</th>\n",
       "      <th>Red</th>\n",
       "      <th>Purple</th>\n",
       "      <th>Blue</th>\n",
       "      <th>Green</th>\n",
       "      <th>Grey</th>\n",
       "      <th>Brown</th>\n",
       "      <th>White</th>\n",
       "      <th>Black</th>\n",
       "    </tr>\n",
       "  </thead>\n",
       "  <tbody>\n",
       "    <tr>\n",
       "      <th>0</th>\n",
       "      <td>Beige</td>\n",
       "      <td>138</td>\n",
       "      <td>102</td>\n",
       "      <td>66</td>\n",
       "      <td>1</td>\n",
       "      <td>0</td>\n",
       "      <td>0</td>\n",
       "      <td>0</td>\n",
       "      <td>0</td>\n",
       "      <td>0</td>\n",
       "      <td>0</td>\n",
       "      <td>0</td>\n",
       "      <td>0</td>\n",
       "      <td>0</td>\n",
       "      <td>0</td>\n",
       "    </tr>\n",
       "    <tr>\n",
       "      <th>1</th>\n",
       "      <td>Beige</td>\n",
       "      <td>169</td>\n",
       "      <td>131</td>\n",
       "      <td>7</td>\n",
       "      <td>1</td>\n",
       "      <td>0</td>\n",
       "      <td>0</td>\n",
       "      <td>0</td>\n",
       "      <td>0</td>\n",
       "      <td>0</td>\n",
       "      <td>0</td>\n",
       "      <td>0</td>\n",
       "      <td>0</td>\n",
       "      <td>0</td>\n",
       "      <td>0</td>\n",
       "    </tr>\n",
       "    <tr>\n",
       "      <th>2</th>\n",
       "      <td>Beige</td>\n",
       "      <td>190</td>\n",
       "      <td>189</td>\n",
       "      <td>127</td>\n",
       "      <td>1</td>\n",
       "      <td>0</td>\n",
       "      <td>0</td>\n",
       "      <td>0</td>\n",
       "      <td>0</td>\n",
       "      <td>0</td>\n",
       "      <td>0</td>\n",
       "      <td>0</td>\n",
       "      <td>0</td>\n",
       "      <td>0</td>\n",
       "      <td>0</td>\n",
       "    </tr>\n",
       "    <tr>\n",
       "      <th>3</th>\n",
       "      <td>Beige</td>\n",
       "      <td>194</td>\n",
       "      <td>176</td>\n",
       "      <td>120</td>\n",
       "      <td>1</td>\n",
       "      <td>0</td>\n",
       "      <td>0</td>\n",
       "      <td>0</td>\n",
       "      <td>0</td>\n",
       "      <td>0</td>\n",
       "      <td>0</td>\n",
       "      <td>0</td>\n",
       "      <td>0</td>\n",
       "      <td>0</td>\n",
       "      <td>0</td>\n",
       "    </tr>\n",
       "    <tr>\n",
       "      <th>4</th>\n",
       "      <td>Beige</td>\n",
       "      <td>198</td>\n",
       "      <td>166</td>\n",
       "      <td>100</td>\n",
       "      <td>1</td>\n",
       "      <td>0</td>\n",
       "      <td>0</td>\n",
       "      <td>0</td>\n",
       "      <td>0</td>\n",
       "      <td>0</td>\n",
       "      <td>0</td>\n",
       "      <td>0</td>\n",
       "      <td>0</td>\n",
       "      <td>0</td>\n",
       "      <td>0</td>\n",
       "    </tr>\n",
       "    <tr>\n",
       "      <th>...</th>\n",
       "      <td>...</td>\n",
       "      <td>...</td>\n",
       "      <td>...</td>\n",
       "      <td>...</td>\n",
       "      <td>...</td>\n",
       "      <td>...</td>\n",
       "      <td>...</td>\n",
       "      <td>...</td>\n",
       "      <td>...</td>\n",
       "      <td>...</td>\n",
       "      <td>...</td>\n",
       "      <td>...</td>\n",
       "      <td>...</td>\n",
       "      <td>...</td>\n",
       "      <td>...</td>\n",
       "    </tr>\n",
       "    <tr>\n",
       "      <th>208</th>\n",
       "      <td>Yellow</td>\n",
       "      <td>244</td>\n",
       "      <td>169</td>\n",
       "      <td>0</td>\n",
       "      <td>0</td>\n",
       "      <td>1</td>\n",
       "      <td>0</td>\n",
       "      <td>0</td>\n",
       "      <td>0</td>\n",
       "      <td>0</td>\n",
       "      <td>0</td>\n",
       "      <td>0</td>\n",
       "      <td>0</td>\n",
       "      <td>0</td>\n",
       "      <td>0</td>\n",
       "    </tr>\n",
       "    <tr>\n",
       "      <th>209</th>\n",
       "      <td>Yellow</td>\n",
       "      <td>245</td>\n",
       "      <td>208</td>\n",
       "      <td>51</td>\n",
       "      <td>0</td>\n",
       "      <td>1</td>\n",
       "      <td>0</td>\n",
       "      <td>0</td>\n",
       "      <td>0</td>\n",
       "      <td>0</td>\n",
       "      <td>0</td>\n",
       "      <td>0</td>\n",
       "      <td>0</td>\n",
       "      <td>0</td>\n",
       "      <td>0</td>\n",
       "    </tr>\n",
       "    <tr>\n",
       "      <th>210</th>\n",
       "      <td>Yellow</td>\n",
       "      <td>248</td>\n",
       "      <td>243</td>\n",
       "      <td>53</td>\n",
       "      <td>0</td>\n",
       "      <td>1</td>\n",
       "      <td>0</td>\n",
       "      <td>0</td>\n",
       "      <td>0</td>\n",
       "      <td>0</td>\n",
       "      <td>0</td>\n",
       "      <td>0</td>\n",
       "      <td>0</td>\n",
       "      <td>0</td>\n",
       "      <td>0</td>\n",
       "    </tr>\n",
       "    <tr>\n",
       "      <th>211</th>\n",
       "      <td>Yellow</td>\n",
       "      <td>250</td>\n",
       "      <td>210</td>\n",
       "      <td>1</td>\n",
       "      <td>0</td>\n",
       "      <td>1</td>\n",
       "      <td>0</td>\n",
       "      <td>0</td>\n",
       "      <td>0</td>\n",
       "      <td>0</td>\n",
       "      <td>0</td>\n",
       "      <td>0</td>\n",
       "      <td>0</td>\n",
       "      <td>0</td>\n",
       "      <td>0</td>\n",
       "    </tr>\n",
       "    <tr>\n",
       "      <th>212</th>\n",
       "      <td>Yellow</td>\n",
       "      <td>255</td>\n",
       "      <td>255</td>\n",
       "      <td>0</td>\n",
       "      <td>0</td>\n",
       "      <td>1</td>\n",
       "      <td>0</td>\n",
       "      <td>0</td>\n",
       "      <td>0</td>\n",
       "      <td>0</td>\n",
       "      <td>0</td>\n",
       "      <td>0</td>\n",
       "      <td>0</td>\n",
       "      <td>0</td>\n",
       "      <td>0</td>\n",
       "    </tr>\n",
       "  </tbody>\n",
       "</table>\n",
       "<p>213 rows × 15 columns</p>\n",
       "</div>"
      ],
      "text/plain": [
       "       Name    R    G    B  Beige  Yellow  Orange  Red  Purple  Blue  Green  \\\n",
       "0     Beige  138  102   66      1       0       0    0       0     0      0   \n",
       "1     Beige  169  131    7      1       0       0    0       0     0      0   \n",
       "2     Beige  190  189  127      1       0       0    0       0     0      0   \n",
       "3     Beige  194  176  120      1       0       0    0       0     0      0   \n",
       "4     Beige  198  166  100      1       0       0    0       0     0      0   \n",
       "..      ...  ...  ...  ...    ...     ...     ...  ...     ...   ...    ...   \n",
       "208  Yellow  244  169    0      0       1       0    0       0     0      0   \n",
       "209  Yellow  245  208   51      0       1       0    0       0     0      0   \n",
       "210  Yellow  248  243   53      0       1       0    0       0     0      0   \n",
       "211  Yellow  250  210    1      0       1       0    0       0     0      0   \n",
       "212  Yellow  255  255    0      0       1       0    0       0     0      0   \n",
       "\n",
       "     Grey  Brown  White  Black  \n",
       "0       0      0      0      0  \n",
       "1       0      0      0      0  \n",
       "2       0      0      0      0  \n",
       "3       0      0      0      0  \n",
       "4       0      0      0      0  \n",
       "..    ...    ...    ...    ...  \n",
       "208     0      0      0      0  \n",
       "209     0      0      0      0  \n",
       "210     0      0      0      0  \n",
       "211     0      0      0      0  \n",
       "212     0      0      0      0  \n",
       "\n",
       "[213 rows x 15 columns]"
      ]
     },
     "execution_count": 40,
     "metadata": {},
     "output_type": "execute_result"
    }
   ],
   "source": [
    "training_orig_df = pd.read_excel('datasets\\\\rgb.xlsx')\n",
    "training_orig_df"
   ]
  },
  {
   "cell_type": "code",
   "execution_count": 41,
   "metadata": {},
   "outputs": [],
   "source": [
    "training_df = training_orig_df.copy()\n",
    "training_df.drop(columns=['Name'], inplace=True)"
   ]
  },
  {
   "cell_type": "markdown",
   "metadata": {},
   "source": [
    "The data is then split into training and validation data using the `split_training_val_data()` function. Here a percentage can be set."
   ]
  },
  {
   "cell_type": "code",
   "execution_count": 42,
   "metadata": {},
   "outputs": [],
   "source": [
    "train_df, val_df = hlp.split_training_val_data(training_df, 0.2)"
   ]
  },
  {
   "cell_type": "markdown",
   "metadata": {},
   "source": [
    "The training and validation data are then split into input and output data using the `split_input_output_data()` function. The column headers of the training input have to specified."
   ]
  },
  {
   "cell_type": "code",
   "execution_count": 43,
   "metadata": {},
   "outputs": [],
   "source": [
    "x_columns = ['R', 'G', 'B']\n",
    "y_columns = ['Beige', 'Yellow', 'Orange', 'Red', 'Purple', 'Blue', 'Green', 'Grey', 'Brown', 'White', 'Black']\n",
    "\n",
    "train_df_x, train_df_y = hlp.split_input_output_data(train_df, x_columns, y_columns)\n",
    "val_df_x, val_df_y = hlp.split_input_output_data(val_df, x_columns, y_columns)"
   ]
  },
  {
   "cell_type": "code",
   "execution_count": 44,
   "metadata": {},
   "outputs": [],
   "source": [
    "train_df_x_norm = hlp.normalize(train_df_x, 0, 255, -1, 1)\n",
    "val_df_x_norm = hlp.normalize(val_df_x, 0, 255, -1, 1)"
   ]
  },
  {
   "cell_type": "code",
   "execution_count": 45,
   "metadata": {},
   "outputs": [
    {
     "data": {
      "text/html": [
       "<div>\n",
       "<style scoped>\n",
       "    .dataframe tbody tr th:only-of-type {\n",
       "        vertical-align: middle;\n",
       "    }\n",
       "\n",
       "    .dataframe tbody tr th {\n",
       "        vertical-align: top;\n",
       "    }\n",
       "\n",
       "    .dataframe thead th {\n",
       "        text-align: right;\n",
       "    }\n",
       "</style>\n",
       "<table border=\"1\" class=\"dataframe\">\n",
       "  <thead>\n",
       "    <tr style=\"text-align: right;\">\n",
       "      <th></th>\n",
       "      <th>R</th>\n",
       "      <th>G</th>\n",
       "      <th>B</th>\n",
       "    </tr>\n",
       "  </thead>\n",
       "  <tbody>\n",
       "    <tr>\n",
       "      <th>0</th>\n",
       "      <td>0.082353</td>\n",
       "      <td>-0.200000</td>\n",
       "      <td>-0.482353</td>\n",
       "    </tr>\n",
       "    <tr>\n",
       "      <th>1</th>\n",
       "      <td>0.325490</td>\n",
       "      <td>0.027451</td>\n",
       "      <td>-0.945098</td>\n",
       "    </tr>\n",
       "    <tr>\n",
       "      <th>2</th>\n",
       "      <td>0.490196</td>\n",
       "      <td>0.482353</td>\n",
       "      <td>-0.003922</td>\n",
       "    </tr>\n",
       "    <tr>\n",
       "      <th>3</th>\n",
       "      <td>0.521569</td>\n",
       "      <td>0.380392</td>\n",
       "      <td>-0.058824</td>\n",
       "    </tr>\n",
       "    <tr>\n",
       "      <th>4</th>\n",
       "      <td>0.552941</td>\n",
       "      <td>0.301961</td>\n",
       "      <td>-0.215686</td>\n",
       "    </tr>\n",
       "    <tr>\n",
       "      <th>...</th>\n",
       "      <td>...</td>\n",
       "      <td>...</td>\n",
       "      <td>...</td>\n",
       "    </tr>\n",
       "    <tr>\n",
       "      <th>165</th>\n",
       "      <td>0.905882</td>\n",
       "      <td>0.294118</td>\n",
       "      <td>-0.960784</td>\n",
       "    </tr>\n",
       "    <tr>\n",
       "      <th>166</th>\n",
       "      <td>0.921569</td>\n",
       "      <td>0.631373</td>\n",
       "      <td>-0.600000</td>\n",
       "    </tr>\n",
       "    <tr>\n",
       "      <th>167</th>\n",
       "      <td>0.945098</td>\n",
       "      <td>0.905882</td>\n",
       "      <td>-0.584314</td>\n",
       "    </tr>\n",
       "    <tr>\n",
       "      <th>168</th>\n",
       "      <td>0.960784</td>\n",
       "      <td>0.647059</td>\n",
       "      <td>-0.992157</td>\n",
       "    </tr>\n",
       "    <tr>\n",
       "      <th>169</th>\n",
       "      <td>1.000000</td>\n",
       "      <td>1.000000</td>\n",
       "      <td>-1.000000</td>\n",
       "    </tr>\n",
       "  </tbody>\n",
       "</table>\n",
       "<p>170 rows × 3 columns</p>\n",
       "</div>"
      ],
      "text/plain": [
       "            R         G         B\n",
       "0    0.082353 -0.200000 -0.482353\n",
       "1    0.325490  0.027451 -0.945098\n",
       "2    0.490196  0.482353 -0.003922\n",
       "3    0.521569  0.380392 -0.058824\n",
       "4    0.552941  0.301961 -0.215686\n",
       "..        ...       ...       ...\n",
       "165  0.905882  0.294118 -0.960784\n",
       "166  0.921569  0.631373 -0.600000\n",
       "167  0.945098  0.905882 -0.584314\n",
       "168  0.960784  0.647059 -0.992157\n",
       "169  1.000000  1.000000 -1.000000\n",
       "\n",
       "[170 rows x 3 columns]"
      ]
     },
     "execution_count": 45,
     "metadata": {},
     "output_type": "execute_result"
    }
   ],
   "source": [
    "train_df_x_norm"
   ]
  },
  {
   "cell_type": "markdown",
   "metadata": {},
   "source": [
    "## Instanciate a model\n",
    "\n",
    "`add_layer` adds a new layer to the model. The amount of neurons and the desired activation function can be set. Layer 0 is automatically set to be the input layer. Weights and biases are randomly assigned."
   ]
  },
  {
   "cell_type": "code",
   "execution_count": 46,
   "metadata": {},
   "outputs": [],
   "source": [
    "mdl = Network_Model()\n",
    "mdl.add_layer(3)\n",
    "mdl.add_layer(16, activation_function='sigmoid')\n",
    "mdl.add_layer(11, activation_function='sigmoid')"
   ]
  },
  {
   "cell_type": "markdown",
   "metadata": {},
   "source": [
    "Using `plot_network`, the Model can be visualized."
   ]
  },
  {
   "cell_type": "code",
   "execution_count": 47,
   "metadata": {},
   "outputs": [
    {
     "data": {
      "text/markdown": [
       "<div style=\"border-style:outset; border-radius: 1ex; border-color: white; padding: 0.5ex; text-align: center; float: left; margin: 0.25ex; width: fit-content\">(0, 1)<br>net 0<br>act 0<br>out 0</div><div style=\"border-style:outset; border-radius: 1ex; border-color: white; padding: 0.5ex; text-align: center; float: left; margin: 0.25ex; width: fit-content\">(0, 2)<br>net 0<br>act 0<br>out 0</div><div style=\"border-style:outset; border-radius: 1ex; border-color: white; padding: 0.5ex; text-align: center; float: left; margin: 0.25ex; width: fit-content\">(0, 3)<br>net 0<br>act 0<br>out 0</div>"
      ],
      "text/plain": [
       "<IPython.core.display.Markdown object>"
      ]
     },
     "metadata": {},
     "output_type": "display_data"
    },
    {
     "data": {
      "text/markdown": [
       "<div style=\"border-style:outset; border-radius: 1ex; border-color: white; padding: 0.5ex; text-align: center; float: left; margin: 0.25ex; width: fit-content\">(1, 1)<br>net 0<br>act 0<br>out 0</div><div style=\"border-style:outset; border-radius: 1ex; border-color: white; padding: 0.5ex; text-align: center; float: left; margin: 0.25ex; width: fit-content\">(1, 2)<br>net 0<br>act 0<br>out 0</div><div style=\"border-style:outset; border-radius: 1ex; border-color: white; padding: 0.5ex; text-align: center; float: left; margin: 0.25ex; width: fit-content\">(1, 3)<br>net 0<br>act 0<br>out 0</div><div style=\"border-style:outset; border-radius: 1ex; border-color: white; padding: 0.5ex; text-align: center; float: left; margin: 0.25ex; width: fit-content\">(1, 4)<br>net 0<br>act 0<br>out 0</div><div style=\"border-style:outset; border-radius: 1ex; border-color: white; padding: 0.5ex; text-align: center; float: left; margin: 0.25ex; width: fit-content\">(1, 5)<br>net 0<br>act 0<br>out 0</div><div style=\"border-style:outset; border-radius: 1ex; border-color: white; padding: 0.5ex; text-align: center; float: left; margin: 0.25ex; width: fit-content\">(1, 6)<br>net 0<br>act 0<br>out 0</div><div style=\"border-style:outset; border-radius: 1ex; border-color: white; padding: 0.5ex; text-align: center; float: left; margin: 0.25ex; width: fit-content\">(1, 7)<br>net 0<br>act 0<br>out 0</div><div style=\"border-style:outset; border-radius: 1ex; border-color: white; padding: 0.5ex; text-align: center; float: left; margin: 0.25ex; width: fit-content\">(1, 8)<br>net 0<br>act 0<br>out 0</div><div style=\"border-style:outset; border-radius: 1ex; border-color: white; padding: 0.5ex; text-align: center; float: left; margin: 0.25ex; width: fit-content\">(1, 9)<br>net 0<br>act 0<br>out 0</div><div style=\"border-style:outset; border-radius: 1ex; border-color: white; padding: 0.5ex; text-align: center; float: left; margin: 0.25ex; width: fit-content\">(1, 10)<br>net 0<br>act 0<br>out 0</div><div style=\"border-style:outset; border-radius: 1ex; border-color: white; padding: 0.5ex; text-align: center; float: left; margin: 0.25ex; width: fit-content\">(1, 11)<br>net 0<br>act 0<br>out 0</div><div style=\"border-style:outset; border-radius: 1ex; border-color: white; padding: 0.5ex; text-align: center; float: left; margin: 0.25ex; width: fit-content\">(1, 12)<br>net 0<br>act 0<br>out 0</div><div style=\"border-style:outset; border-radius: 1ex; border-color: white; padding: 0.5ex; text-align: center; float: left; margin: 0.25ex; width: fit-content\">(1, 13)<br>net 0<br>act 0<br>out 0</div><div style=\"border-style:outset; border-radius: 1ex; border-color: white; padding: 0.5ex; text-align: center; float: left; margin: 0.25ex; width: fit-content\">(1, 14)<br>net 0<br>act 0<br>out 0</div><div style=\"border-style:outset; border-radius: 1ex; border-color: white; padding: 0.5ex; text-align: center; float: left; margin: 0.25ex; width: fit-content\">(1, 15)<br>net 0<br>act 0<br>out 0</div><div style=\"border-style:outset; border-radius: 1ex; border-color: white; padding: 0.5ex; text-align: center; float: left; margin: 0.25ex; width: fit-content\">(1, 16)<br>net 0<br>act 0<br>out 0</div>"
      ],
      "text/plain": [
       "<IPython.core.display.Markdown object>"
      ]
     },
     "metadata": {},
     "output_type": "display_data"
    },
    {
     "data": {
      "text/markdown": [
       "<div style=\"border-style:outset; border-radius: 1ex; border-color: white; padding: 0.5ex; text-align: center; float: left; margin: 0.25ex; width: fit-content\">(2, 1)<br>net 0<br>act 0<br>out 0</div><div style=\"border-style:outset; border-radius: 1ex; border-color: white; padding: 0.5ex; text-align: center; float: left; margin: 0.25ex; width: fit-content\">(2, 2)<br>net 0<br>act 0<br>out 0</div><div style=\"border-style:outset; border-radius: 1ex; border-color: white; padding: 0.5ex; text-align: center; float: left; margin: 0.25ex; width: fit-content\">(2, 3)<br>net 0<br>act 0<br>out 0</div><div style=\"border-style:outset; border-radius: 1ex; border-color: white; padding: 0.5ex; text-align: center; float: left; margin: 0.25ex; width: fit-content\">(2, 4)<br>net 0<br>act 0<br>out 0</div><div style=\"border-style:outset; border-radius: 1ex; border-color: white; padding: 0.5ex; text-align: center; float: left; margin: 0.25ex; width: fit-content\">(2, 5)<br>net 0<br>act 0<br>out 0</div><div style=\"border-style:outset; border-radius: 1ex; border-color: white; padding: 0.5ex; text-align: center; float: left; margin: 0.25ex; width: fit-content\">(2, 6)<br>net 0<br>act 0<br>out 0</div><div style=\"border-style:outset; border-radius: 1ex; border-color: white; padding: 0.5ex; text-align: center; float: left; margin: 0.25ex; width: fit-content\">(2, 7)<br>net 0<br>act 0<br>out 0</div><div style=\"border-style:outset; border-radius: 1ex; border-color: white; padding: 0.5ex; text-align: center; float: left; margin: 0.25ex; width: fit-content\">(2, 8)<br>net 0<br>act 0<br>out 0</div><div style=\"border-style:outset; border-radius: 1ex; border-color: white; padding: 0.5ex; text-align: center; float: left; margin: 0.25ex; width: fit-content\">(2, 9)<br>net 0<br>act 0<br>out 0</div><div style=\"border-style:outset; border-radius: 1ex; border-color: white; padding: 0.5ex; text-align: center; float: left; margin: 0.25ex; width: fit-content\">(2, 10)<br>net 0<br>act 0<br>out 0</div><div style=\"border-style:outset; border-radius: 1ex; border-color: white; padding: 0.5ex; text-align: center; float: left; margin: 0.25ex; width: fit-content\">(2, 11)<br>net 0<br>act 0<br>out 0</div>"
      ],
      "text/plain": [
       "<IPython.core.display.Markdown object>"
      ]
     },
     "metadata": {},
     "output_type": "display_data"
    }
   ],
   "source": [
    "mdl.plot_network()"
   ]
  },
  {
   "cell_type": "markdown",
   "metadata": {},
   "source": [
    "Using `get_weights()`, the weights can be displayed. Weihts of row 0 are weights of the bias neuron of the respective layer."
   ]
  },
  {
   "cell_type": "code",
   "execution_count": 48,
   "metadata": {},
   "outputs": [
    {
     "data": {
      "text/html": [
       "<div>\n",
       "<style scoped>\n",
       "    .dataframe tbody tr th:only-of-type {\n",
       "        vertical-align: middle;\n",
       "    }\n",
       "\n",
       "    .dataframe tbody tr th {\n",
       "        vertical-align: top;\n",
       "    }\n",
       "\n",
       "    .dataframe thead th {\n",
       "        text-align: right;\n",
       "    }\n",
       "</style>\n",
       "<table border=\"1\" class=\"dataframe\">\n",
       "  <thead>\n",
       "    <tr style=\"text-align: right;\">\n",
       "      <th></th>\n",
       "      <th>0</th>\n",
       "      <th>1</th>\n",
       "      <th>2</th>\n",
       "      <th>3</th>\n",
       "      <th>4</th>\n",
       "      <th>5</th>\n",
       "      <th>6</th>\n",
       "      <th>7</th>\n",
       "      <th>8</th>\n",
       "      <th>9</th>\n",
       "      <th>10</th>\n",
       "      <th>11</th>\n",
       "      <th>12</th>\n",
       "      <th>13</th>\n",
       "      <th>14</th>\n",
       "      <th>15</th>\n",
       "    </tr>\n",
       "  </thead>\n",
       "  <tbody>\n",
       "    <tr>\n",
       "      <th>0</th>\n",
       "      <td>0.127929</td>\n",
       "      <td>-0.639153</td>\n",
       "      <td>0.406130</td>\n",
       "      <td>-0.607409</td>\n",
       "      <td>-0.023658</td>\n",
       "      <td>0.244866</td>\n",
       "      <td>0.490637</td>\n",
       "      <td>-0.237952</td>\n",
       "      <td>0.853023</td>\n",
       "      <td>0.093851</td>\n",
       "      <td>0.418644</td>\n",
       "      <td>-0.619633</td>\n",
       "      <td>0.897247</td>\n",
       "      <td>0.340920</td>\n",
       "      <td>0.006154</td>\n",
       "      <td>0.296621</td>\n",
       "    </tr>\n",
       "    <tr>\n",
       "      <th>1</th>\n",
       "      <td>-0.883678</td>\n",
       "      <td>0.258304</td>\n",
       "      <td>-0.538809</td>\n",
       "      <td>-0.803474</td>\n",
       "      <td>0.765731</td>\n",
       "      <td>-0.268187</td>\n",
       "      <td>-0.791403</td>\n",
       "      <td>0.412262</td>\n",
       "      <td>-0.823369</td>\n",
       "      <td>-0.982928</td>\n",
       "      <td>-0.811668</td>\n",
       "      <td>0.359352</td>\n",
       "      <td>-0.875989</td>\n",
       "      <td>0.724655</td>\n",
       "      <td>0.267264</td>\n",
       "      <td>-0.963081</td>\n",
       "    </tr>\n",
       "    <tr>\n",
       "      <th>2</th>\n",
       "      <td>0.412136</td>\n",
       "      <td>0.575245</td>\n",
       "      <td>0.757006</td>\n",
       "      <td>0.889461</td>\n",
       "      <td>0.068330</td>\n",
       "      <td>0.060549</td>\n",
       "      <td>-0.966477</td>\n",
       "      <td>0.870521</td>\n",
       "      <td>-0.846046</td>\n",
       "      <td>0.291246</td>\n",
       "      <td>-0.673363</td>\n",
       "      <td>0.060533</td>\n",
       "      <td>0.224243</td>\n",
       "      <td>0.665015</td>\n",
       "      <td>-0.259975</td>\n",
       "      <td>-0.964527</td>\n",
       "    </tr>\n",
       "    <tr>\n",
       "      <th>3</th>\n",
       "      <td>-0.949855</td>\n",
       "      <td>0.580720</td>\n",
       "      <td>0.563331</td>\n",
       "      <td>-0.162586</td>\n",
       "      <td>0.034416</td>\n",
       "      <td>0.116837</td>\n",
       "      <td>0.539728</td>\n",
       "      <td>-0.212866</td>\n",
       "      <td>0.365191</td>\n",
       "      <td>0.768439</td>\n",
       "      <td>0.742065</td>\n",
       "      <td>0.145661</td>\n",
       "      <td>-0.829308</td>\n",
       "      <td>0.519653</td>\n",
       "      <td>-0.998854</td>\n",
       "      <td>0.231060</td>\n",
       "    </tr>\n",
       "  </tbody>\n",
       "</table>\n",
       "</div>"
      ],
      "text/plain": [
       "         0         1         2         3         4         5         6   \\\n",
       "0  0.127929 -0.639153  0.406130 -0.607409 -0.023658  0.244866  0.490637   \n",
       "1 -0.883678  0.258304 -0.538809 -0.803474  0.765731 -0.268187 -0.791403   \n",
       "2  0.412136  0.575245  0.757006  0.889461  0.068330  0.060549 -0.966477   \n",
       "3 -0.949855  0.580720  0.563331 -0.162586  0.034416  0.116837  0.539728   \n",
       "\n",
       "         7         8         9         10        11        12        13  \\\n",
       "0 -0.237952  0.853023  0.093851  0.418644 -0.619633  0.897247  0.340920   \n",
       "1  0.412262 -0.823369 -0.982928 -0.811668  0.359352 -0.875989  0.724655   \n",
       "2  0.870521 -0.846046  0.291246 -0.673363  0.060533  0.224243  0.665015   \n",
       "3 -0.212866  0.365191  0.768439  0.742065  0.145661 -0.829308  0.519653   \n",
       "\n",
       "         14        15  \n",
       "0  0.006154  0.296621  \n",
       "1  0.267264 -0.963081  \n",
       "2 -0.259975 -0.964527  \n",
       "3 -0.998854  0.231060  "
      ]
     },
     "execution_count": 48,
     "metadata": {},
     "output_type": "execute_result"
    }
   ],
   "source": [
    "mdl.layers[1].get_weights()"
   ]
  },
  {
   "cell_type": "markdown",
   "metadata": {},
   "source": [
    "Using the `predict()` method, a prediction is made based on a given input-vector. Since the model is not trained yet, the output is random."
   ]
  },
  {
   "cell_type": "code",
   "execution_count": 49,
   "metadata": {},
   "outputs": [
    {
     "name": "stdout",
     "output_type": "stream",
     "text": [
      "Beige\n"
     ]
    },
    {
     "data": {
      "text/markdown": [
       "<div style=\"height: 100px; width: 100px; background-color: rgb(255.0,0.0,0.0);\"></div>"
      ],
      "text/plain": [
       "<IPython.core.display.Markdown object>"
      ]
     },
     "metadata": {},
     "output_type": "display_data"
    }
   ],
   "source": [
    "rgb = [255, 0, 0]\n",
    "input = chlp.rgb_to_norm(rgb)\n",
    "pred = mdl.predict(input)\n",
    "print(y_columns[pred.index(max(pred))])\n",
    "chlp.plot_color(input)"
   ]
  },
  {
   "cell_type": "markdown",
   "metadata": {},
   "source": [
    "## Training the model\n",
    "\n",
    "Using *backpropagation of error* the model can be trained. As input the previously normalized data is used. Teaching input is also needed."
   ]
  },
  {
   "cell_type": "code",
   "execution_count": 56,
   "metadata": {},
   "outputs": [],
   "source": [
    "history = mdl.train(train_df_x_norm, train_df_y, epochs=100, debug=False, learning_rate=0.5)"
   ]
  },
  {
   "cell_type": "markdown",
   "metadata": {},
   "source": [
    "#### Learning curve\n",
    "\n",
    "The cumulative error over time can be plotted"
   ]
  },
  {
   "cell_type": "code",
   "execution_count": 57,
   "metadata": {},
   "outputs": [
    {
     "data": {
      "image/png": "[encoded data removed]",
      "text/plain": [
       "<Figure size 432x288 with 1 Axes>"
      ]
     },
     "metadata": {
      "needs_background": "light"
     },
     "output_type": "display_data"
    }
   ],
   "source": [
    "fig, ax = plt.subplots()\n",
    "ax.plot(history)\n",
    "ax.set(xlabel='Epoch', ylabel='Cumulative Error',title='Learning Curve')\n",
    "ax.grid()\n",
    "plt.ylim([0,60])\n",
    "plt.show()"
   ]
  },
  {
   "cell_type": "markdown",
   "metadata": {},
   "source": [
    "#### Prediction\n",
    "\n",
    "Using the trained model, more accurate predictions can now be made."
   ]
  },
  {
   "cell_type": "code",
   "execution_count": 58,
   "metadata": {},
   "outputs": [
    {
     "name": "stdout",
     "output_type": "stream",
     "text": [
      "Green\n"
     ]
    },
    {
     "data": {
      "text/markdown": [
       "<div style=\"height: 100px; width: 100px; background-color: rgb(0.0,255.0,127.5);\"></div>"
      ],
      "text/plain": [
       "<IPython.core.display.Markdown object>"
      ]
     },
     "metadata": {},
     "output_type": "display_data"
    }
   ],
   "source": [
    "rgb = [0, 255, 127] # https://www.w3schools.com/colors/colors_rgb.asp\n",
    "input = chlp.rgb_to_norm(rgb)\n",
    "pred = mdl.predict(input)\n",
    "print(y_columns[pred.index(max(pred))])\n",
    "chlp.plot_color(input)\n",
    "\n",
    "# 'Beige', 'Yellow', 'Orange', 'Red', 'Purple', 'Blue', 'Green', 'Grey', 'Brown', 'White', 'Black'"
   ]
  },
  {
   "cell_type": "code",
   "execution_count": 53,
   "metadata": {},
   "outputs": [
    {
     "data": {
      "text/html": [
       "<div>\n",
       "<style scoped>\n",
       "    .dataframe tbody tr th:only-of-type {\n",
       "        vertical-align: middle;\n",
       "    }\n",
       "\n",
       "    .dataframe tbody tr th {\n",
       "        vertical-align: top;\n",
       "    }\n",
       "\n",
       "    .dataframe thead th {\n",
       "        text-align: right;\n",
       "    }\n",
       "</style>\n",
       "<table border=\"1\" class=\"dataframe\">\n",
       "  <thead>\n",
       "    <tr style=\"text-align: right;\">\n",
       "      <th></th>\n",
       "      <th>0</th>\n",
       "      <th>1</th>\n",
       "      <th>2</th>\n",
       "      <th>3</th>\n",
       "      <th>4</th>\n",
       "      <th>5</th>\n",
       "      <th>6</th>\n",
       "      <th>7</th>\n",
       "      <th>8</th>\n",
       "      <th>9</th>\n",
       "      <th>10</th>\n",
       "      <th>11</th>\n",
       "      <th>12</th>\n",
       "      <th>13</th>\n",
       "      <th>14</th>\n",
       "      <th>15</th>\n",
       "    </tr>\n",
       "  </thead>\n",
       "  <tbody>\n",
       "    <tr>\n",
       "      <th>0</th>\n",
       "      <td>-0.809415</td>\n",
       "      <td>-0.658477</td>\n",
       "      <td>2.402711</td>\n",
       "      <td>-2.428942</td>\n",
       "      <td>-1.411486</td>\n",
       "      <td>3.079112</td>\n",
       "      <td>-0.953249</td>\n",
       "      <td>-0.662644</td>\n",
       "      <td>-0.630900</td>\n",
       "      <td>-0.675118</td>\n",
       "      <td>-0.427925</td>\n",
       "      <td>-3.349459</td>\n",
       "      <td>1.414740</td>\n",
       "      <td>1.909207</td>\n",
       "      <td>-2.165325</td>\n",
       "      <td>-0.682111</td>\n",
       "    </tr>\n",
       "    <tr>\n",
       "      <th>1</th>\n",
       "      <td>-0.050222</td>\n",
       "      <td>-0.334708</td>\n",
       "      <td>0.332181</td>\n",
       "      <td>3.145647</td>\n",
       "      <td>4.495643</td>\n",
       "      <td>-3.669847</td>\n",
       "      <td>-2.352600</td>\n",
       "      <td>-0.869921</td>\n",
       "      <td>-5.402888</td>\n",
       "      <td>-6.348719</td>\n",
       "      <td>0.961039</td>\n",
       "      <td>4.595420</td>\n",
       "      <td>0.492957</td>\n",
       "      <td>3.780263</td>\n",
       "      <td>6.950981</td>\n",
       "      <td>-0.300108</td>\n",
       "    </tr>\n",
       "    <tr>\n",
       "      <th>2</th>\n",
       "      <td>3.093357</td>\n",
       "      <td>6.143979</td>\n",
       "      <td>1.226011</td>\n",
       "      <td>3.812742</td>\n",
       "      <td>-3.250593</td>\n",
       "      <td>-0.992152</td>\n",
       "      <td>-2.131198</td>\n",
       "      <td>3.466821</td>\n",
       "      <td>2.584871</td>\n",
       "      <td>6.584630</td>\n",
       "      <td>-5.296531</td>\n",
       "      <td>-1.080125</td>\n",
       "      <td>5.423703</td>\n",
       "      <td>-1.256037</td>\n",
       "      <td>-1.773723</td>\n",
       "      <td>-1.241851</td>\n",
       "    </tr>\n",
       "    <tr>\n",
       "      <th>3</th>\n",
       "      <td>-3.277960</td>\n",
       "      <td>-0.178145</td>\n",
       "      <td>4.560482</td>\n",
       "      <td>-2.876167</td>\n",
       "      <td>0.222633</td>\n",
       "      <td>-0.463406</td>\n",
       "      <td>5.243567</td>\n",
       "      <td>-1.444046</td>\n",
       "      <td>2.539932</td>\n",
       "      <td>-0.369347</td>\n",
       "      <td>4.311835</td>\n",
       "      <td>-1.417031</td>\n",
       "      <td>-2.619763</td>\n",
       "      <td>3.982301</td>\n",
       "      <td>-4.099798</td>\n",
       "      <td>4.283276</td>\n",
       "    </tr>\n",
       "  </tbody>\n",
       "</table>\n",
       "</div>"
      ],
      "text/plain": [
       "         0         1         2         3         4         5         6   \\\n",
       "0 -0.809415 -0.658477  2.402711 -2.428942 -1.411486  3.079112 -0.953249   \n",
       "1 -0.050222 -0.334708  0.332181  3.145647  4.495643 -3.669847 -2.352600   \n",
       "2  3.093357  6.143979  1.226011  3.812742 -3.250593 -0.992152 -2.131198   \n",
       "3 -3.277960 -0.178145  4.560482 -2.876167  0.222633 -0.463406  5.243567   \n",
       "\n",
       "         7         8         9         10        11        12        13  \\\n",
       "0 -0.662644 -0.630900 -0.675118 -0.427925 -3.349459  1.414740  1.909207   \n",
       "1 -0.869921 -5.402888 -6.348719  0.961039  4.595420  0.492957  3.780263   \n",
       "2  3.466821  2.584871  6.584630 -5.296531 -1.080125  5.423703 -1.256037   \n",
       "3 -1.444046  2.539932 -0.369347  4.311835 -1.417031 -2.619763  3.982301   \n",
       "\n",
       "         14        15  \n",
       "0 -2.165325 -0.682111  \n",
       "1  6.950981 -0.300108  \n",
       "2 -1.773723 -1.241851  \n",
       "3 -4.099798  4.283276  "
      ]
     },
     "execution_count": 53,
     "metadata": {},
     "output_type": "execute_result"
    }
   ],
   "source": [
    "mdl.layers[1].get_weights()"
   ]
  }
 ],
 "metadata": {
  "interpreter": {
   "hash": "f761d2206074d82dd8e41bd143266f9d3dcf5f45b684a45cd98ca9fdc4a46ee0"
  },
  "kernelspec": {
   "display_name": "Python 3.10.1 64-bit",
   "language": "python",
   "name": "python3"
  },
  "language_info": {
   "codemirror_mode": {
    "name": "ipython",
    "version": 3
   },
   "file_extension": ".py",
   "mimetype": "text/x-python",
   "name": "python",
   "nbconvert_exporter": "python",
   "pygments_lexer": "ipython3",
   "version": "3.10.1"
  },
  "orig_nbformat": 4
 },
 "nbformat": 4,
 "nbformat_minor": 2
}
