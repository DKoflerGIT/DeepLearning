{
 "cells": [
  {
   "cell_type": "markdown",
   "metadata": {},
   "source": [
    "# Library for neural networks\n",
    "\n",
    "Sequential neural networks for supervised learning"
   ]
  },
  {
   "cell_type": "code",
   "execution_count": 1,
   "metadata": {},
   "outputs": [],
   "source": [
    "from classes import Neuron, Layer, Network_Model\n",
    "import helpers as hlp"
   ]
  },
  {
   "cell_type": "code",
   "execution_count": 6,
   "metadata": {},
   "outputs": [],
   "source": [
    "mdl = Network_Model()\n",
    "mdl.add_layer(3)\n",
    "mdl.add_layer(5, activation='relu')\n",
    "mdl.add_layer(5, activation='relu')\n",
    "mdl.add_layer(3, activation='sigmoid')"
   ]
  },
  {
   "cell_type": "code",
   "execution_count": 3,
   "metadata": {},
   "outputs": [
    {
     "name": "stdout",
     "output_type": "stream",
     "text": [
      "| (0, 0), o = 0, b = 0 | (0, 1), o = 0, b = 0 | (0, 2), o = 0, b = 0 |\n",
      "| (1, 0), o = 0, b = 0.42 | (1, 1), o = 0, b = 1.0 | (1, 2), o = 0, b = 0.61 | (1, 3), o = 0, b = 0.05 | (1, 4), o = 0, b = 0.02 |\n",
      "| (2, 0), o = 0, b = 0.91 | (2, 1), o = 0, b = 0.77 | (2, 2), o = 0, b = 0.68 | (2, 3), o = 0, b = 0.31 | (2, 4), o = 0, b = 0.78 |\n",
      "| (3, 0), o = 0, b = 0.15 | (3, 1), o = 0, b = 0.98 | (3, 2), o = 0, b = 0.31 |\n"
     ]
    }
   ],
   "source": [
    "mdl.plot_network()"
   ]
  },
  {
   "cell_type": "code",
   "execution_count": 4,
   "metadata": {},
   "outputs": [
    {
     "data": {
      "text/plain": [
       "array([[0.39, 0.  , 0.6 , 0.75, 0.01],\n",
       "       [0.42, 0.2 , 0.97, 0.72, 0.67],\n",
       "       [0.37, 0.63, 0.15, 0.12, 0.01]])"
      ]
     },
     "execution_count": 4,
     "metadata": {},
     "output_type": "execute_result"
    }
   ],
   "source": [
    "mdl.layers[1].weights"
   ]
  },
  {
   "cell_type": "code",
   "execution_count": 8,
   "metadata": {},
   "outputs": [
    {
     "name": "stdout",
     "output_type": "stream",
     "text": [
      "0.75\n",
      "0.77\n",
      "0.63\n"
     ]
    }
   ],
   "source": [
    "input = [1, 0.45, 0.05]\n",
    "mdl.predict(input)"
   ]
  },
  {
   "cell_type": "code",
   "execution_count": 9,
   "metadata": {},
   "outputs": [
    {
     "name": "stdout",
     "output_type": "stream",
     "text": [
      "| (0, 0), o = 1, b = 0 | (0, 1), o = 0.45, b = 0 | (0, 2), o = 0.05, b = 0 |\n",
      "| (1, 0), o = 0.11, b = 0.91 | (1, 1), o = 0.81, b = 0.04 | (1, 2), o = 0.14, b = 0.76 | (1, 3), o = 0.5, b = 0.9 | (1, 4), o = 0.86, b = 0.47 |\n",
      "| (2, 0), o = 0.25, b = 0.47 | (2, 1), o = 0.69, b = 0.5 | (2, 2), o = 0.17, b = 0.64 | (2, 3), o = 1.07, b = 0.81 | (2, 4), o = 1.22, b = 0.62 |\n",
      "| (3, 0), o = 0.75, b = 0.57 | (3, 1), o = 0.77, b = 0.66 | (3, 2), o = 0.63, b = 0.68 |\n"
     ]
    }
   ],
   "source": [
    "mdl.plot_network()"
   ]
  },
  {
   "cell_type": "code",
   "execution_count": 8,
   "metadata": {},
   "outputs": [
    {
     "name": "stdout",
     "output_type": "stream",
     "text": [
      "[[255, 255, 255, 1], [255, 255, 255, 1], [255, 255, 255, 1], [255, 255, 255, 1], [255, 255, 255, 1], [255, 255, 255, 1], [255, 255, 255, 1], [0, 0, 0, 0]]\n",
      "[[255, 255, 255, 1], [255, 255, 255, 1], [127, 127, 127, 0.5]]\n"
     ]
    }
   ],
   "source": [
    "data = [\n",
    "    [255, 255, 255, 1],\n",
    "    [255, 255, 255, 1],\n",
    "    [255, 255, 255, 1],\n",
    "    [255, 255, 255, 1],\n",
    "    [255, 255, 255, 1],\n",
    "    [255, 255, 255, 1],\n",
    "    [255, 255, 255, 1],\n",
    "    [255, 255, 255, 1],\n",
    "    [255, 255, 255, 1],\n",
    "    [0, 0, 0, 0],\n",
    "    [127, 127, 127, 0.5]\n",
    "]\n",
    "\n",
    "test_data, val_data = hlp.split_training_data(data, 0.25)\n",
    "print(test_data)\n",
    "print(val_data)"
   ]
  }
 ],
 "metadata": {
  "interpreter": {
   "hash": "f761d2206074d82dd8e41bd143266f9d3dcf5f45b684a45cd98ca9fdc4a46ee0"
  },
  "kernelspec": {
   "display_name": "Python 3.10.1 64-bit",
   "language": "python",
   "name": "python3"
  },
  "language_info": {
   "codemirror_mode": {
    "name": "ipython",
    "version": 3
   },
   "file_extension": ".py",
   "mimetype": "text/x-python",
   "name": "python",
   "nbconvert_exporter": "python",
   "pygments_lexer": "ipython3",
   "version": "3.10.1"
  },
  "orig_nbformat": 4
 },
 "nbformat": 4,
 "nbformat_minor": 2
}
