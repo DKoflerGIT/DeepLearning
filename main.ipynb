{
 "cells": [
  {
   "cell_type": "markdown",
   "metadata": {},
   "source": [
    "# Library for neural networks\n",
    "\n",
    "Feedforward neural networks for supervised learning\n",
    "\n",
    "## Imports"
   ]
  },
  {
   "cell_type": "code",
   "execution_count": 1,
   "metadata": {},
   "outputs": [],
   "source": [
    "from classes import Neuron, Layer, Network_Model\n",
    "import helpers as hlp\n",
    "import color_helpers as chlp\n",
    "import pandas as pd\n",
    "import matplotlib.pyplot as plt"
   ]
  },
  {
   "cell_type": "markdown",
   "metadata": {},
   "source": [
    "## Preprocess input data\n",
    "\n",
    "The `pandas`-Library is used to preprocess input data.\n",
    "Firstly, data is read from an Excel-file."
   ]
  },
  {
   "cell_type": "code",
   "execution_count": 2,
   "metadata": {},
   "outputs": [
    {
     "data": {
      "text/html": [
       "<div>\n",
       "<style scoped>\n",
       "    .dataframe tbody tr th:only-of-type {\n",
       "        vertical-align: middle;\n",
       "    }\n",
       "\n",
       "    .dataframe tbody tr th {\n",
       "        vertical-align: top;\n",
       "    }\n",
       "\n",
       "    .dataframe thead th {\n",
       "        text-align: right;\n",
       "    }\n",
       "</style>\n",
       "<table border=\"1\" class=\"dataframe\">\n",
       "  <thead>\n",
       "    <tr style=\"text-align: right;\">\n",
       "      <th></th>\n",
       "      <th>Name</th>\n",
       "      <th>R</th>\n",
       "      <th>G</th>\n",
       "      <th>B</th>\n",
       "      <th>Beige</th>\n",
       "      <th>Yellow</th>\n",
       "      <th>Orange</th>\n",
       "      <th>Red</th>\n",
       "      <th>Purple</th>\n",
       "      <th>Blue</th>\n",
       "      <th>Green</th>\n",
       "      <th>Grey</th>\n",
       "      <th>Brown</th>\n",
       "      <th>White</th>\n",
       "      <th>Black</th>\n",
       "    </tr>\n",
       "  </thead>\n",
       "  <tbody>\n",
       "    <tr>\n",
       "      <th>0</th>\n",
       "      <td>Beige</td>\n",
       "      <td>138</td>\n",
       "      <td>102</td>\n",
       "      <td>66</td>\n",
       "      <td>1</td>\n",
       "      <td>0</td>\n",
       "      <td>0</td>\n",
       "      <td>0</td>\n",
       "      <td>0</td>\n",
       "      <td>0</td>\n",
       "      <td>0</td>\n",
       "      <td>0</td>\n",
       "      <td>0</td>\n",
       "      <td>0</td>\n",
       "      <td>0</td>\n",
       "    </tr>\n",
       "    <tr>\n",
       "      <th>1</th>\n",
       "      <td>Beige</td>\n",
       "      <td>169</td>\n",
       "      <td>131</td>\n",
       "      <td>7</td>\n",
       "      <td>1</td>\n",
       "      <td>0</td>\n",
       "      <td>0</td>\n",
       "      <td>0</td>\n",
       "      <td>0</td>\n",
       "      <td>0</td>\n",
       "      <td>0</td>\n",
       "      <td>0</td>\n",
       "      <td>0</td>\n",
       "      <td>0</td>\n",
       "      <td>0</td>\n",
       "    </tr>\n",
       "    <tr>\n",
       "      <th>2</th>\n",
       "      <td>Beige</td>\n",
       "      <td>190</td>\n",
       "      <td>189</td>\n",
       "      <td>127</td>\n",
       "      <td>1</td>\n",
       "      <td>0</td>\n",
       "      <td>0</td>\n",
       "      <td>0</td>\n",
       "      <td>0</td>\n",
       "      <td>0</td>\n",
       "      <td>0</td>\n",
       "      <td>0</td>\n",
       "      <td>0</td>\n",
       "      <td>0</td>\n",
       "      <td>0</td>\n",
       "    </tr>\n",
       "    <tr>\n",
       "      <th>3</th>\n",
       "      <td>Beige</td>\n",
       "      <td>194</td>\n",
       "      <td>176</td>\n",
       "      <td>120</td>\n",
       "      <td>1</td>\n",
       "      <td>0</td>\n",
       "      <td>0</td>\n",
       "      <td>0</td>\n",
       "      <td>0</td>\n",
       "      <td>0</td>\n",
       "      <td>0</td>\n",
       "      <td>0</td>\n",
       "      <td>0</td>\n",
       "      <td>0</td>\n",
       "      <td>0</td>\n",
       "    </tr>\n",
       "    <tr>\n",
       "      <th>4</th>\n",
       "      <td>Beige</td>\n",
       "      <td>198</td>\n",
       "      <td>166</td>\n",
       "      <td>100</td>\n",
       "      <td>1</td>\n",
       "      <td>0</td>\n",
       "      <td>0</td>\n",
       "      <td>0</td>\n",
       "      <td>0</td>\n",
       "      <td>0</td>\n",
       "      <td>0</td>\n",
       "      <td>0</td>\n",
       "      <td>0</td>\n",
       "      <td>0</td>\n",
       "      <td>0</td>\n",
       "    </tr>\n",
       "    <tr>\n",
       "      <th>...</th>\n",
       "      <td>...</td>\n",
       "      <td>...</td>\n",
       "      <td>...</td>\n",
       "      <td>...</td>\n",
       "      <td>...</td>\n",
       "      <td>...</td>\n",
       "      <td>...</td>\n",
       "      <td>...</td>\n",
       "      <td>...</td>\n",
       "      <td>...</td>\n",
       "      <td>...</td>\n",
       "      <td>...</td>\n",
       "      <td>...</td>\n",
       "      <td>...</td>\n",
       "      <td>...</td>\n",
       "    </tr>\n",
       "    <tr>\n",
       "      <th>208</th>\n",
       "      <td>Yellow</td>\n",
       "      <td>244</td>\n",
       "      <td>169</td>\n",
       "      <td>0</td>\n",
       "      <td>0</td>\n",
       "      <td>1</td>\n",
       "      <td>0</td>\n",
       "      <td>0</td>\n",
       "      <td>0</td>\n",
       "      <td>0</td>\n",
       "      <td>0</td>\n",
       "      <td>0</td>\n",
       "      <td>0</td>\n",
       "      <td>0</td>\n",
       "      <td>0</td>\n",
       "    </tr>\n",
       "    <tr>\n",
       "      <th>209</th>\n",
       "      <td>Yellow</td>\n",
       "      <td>245</td>\n",
       "      <td>208</td>\n",
       "      <td>51</td>\n",
       "      <td>0</td>\n",
       "      <td>1</td>\n",
       "      <td>0</td>\n",
       "      <td>0</td>\n",
       "      <td>0</td>\n",
       "      <td>0</td>\n",
       "      <td>0</td>\n",
       "      <td>0</td>\n",
       "      <td>0</td>\n",
       "      <td>0</td>\n",
       "      <td>0</td>\n",
       "    </tr>\n",
       "    <tr>\n",
       "      <th>210</th>\n",
       "      <td>Yellow</td>\n",
       "      <td>248</td>\n",
       "      <td>243</td>\n",
       "      <td>53</td>\n",
       "      <td>0</td>\n",
       "      <td>1</td>\n",
       "      <td>0</td>\n",
       "      <td>0</td>\n",
       "      <td>0</td>\n",
       "      <td>0</td>\n",
       "      <td>0</td>\n",
       "      <td>0</td>\n",
       "      <td>0</td>\n",
       "      <td>0</td>\n",
       "      <td>0</td>\n",
       "    </tr>\n",
       "    <tr>\n",
       "      <th>211</th>\n",
       "      <td>Yellow</td>\n",
       "      <td>250</td>\n",
       "      <td>210</td>\n",
       "      <td>1</td>\n",
       "      <td>0</td>\n",
       "      <td>1</td>\n",
       "      <td>0</td>\n",
       "      <td>0</td>\n",
       "      <td>0</td>\n",
       "      <td>0</td>\n",
       "      <td>0</td>\n",
       "      <td>0</td>\n",
       "      <td>0</td>\n",
       "      <td>0</td>\n",
       "      <td>0</td>\n",
       "    </tr>\n",
       "    <tr>\n",
       "      <th>212</th>\n",
       "      <td>Yellow</td>\n",
       "      <td>255</td>\n",
       "      <td>255</td>\n",
       "      <td>0</td>\n",
       "      <td>0</td>\n",
       "      <td>1</td>\n",
       "      <td>0</td>\n",
       "      <td>0</td>\n",
       "      <td>0</td>\n",
       "      <td>0</td>\n",
       "      <td>0</td>\n",
       "      <td>0</td>\n",
       "      <td>0</td>\n",
       "      <td>0</td>\n",
       "      <td>0</td>\n",
       "    </tr>\n",
       "  </tbody>\n",
       "</table>\n",
       "<p>213 rows × 15 columns</p>\n",
       "</div>"
      ],
      "text/plain": [
       "       Name    R    G    B  Beige  Yellow  Orange  Red  Purple  Blue  Green  \\\n",
       "0     Beige  138  102   66      1       0       0    0       0     0      0   \n",
       "1     Beige  169  131    7      1       0       0    0       0     0      0   \n",
       "2     Beige  190  189  127      1       0       0    0       0     0      0   \n",
       "3     Beige  194  176  120      1       0       0    0       0     0      0   \n",
       "4     Beige  198  166  100      1       0       0    0       0     0      0   \n",
       "..      ...  ...  ...  ...    ...     ...     ...  ...     ...   ...    ...   \n",
       "208  Yellow  244  169    0      0       1       0    0       0     0      0   \n",
       "209  Yellow  245  208   51      0       1       0    0       0     0      0   \n",
       "210  Yellow  248  243   53      0       1       0    0       0     0      0   \n",
       "211  Yellow  250  210    1      0       1       0    0       0     0      0   \n",
       "212  Yellow  255  255    0      0       1       0    0       0     0      0   \n",
       "\n",
       "     Grey  Brown  White  Black  \n",
       "0       0      0      0      0  \n",
       "1       0      0      0      0  \n",
       "2       0      0      0      0  \n",
       "3       0      0      0      0  \n",
       "4       0      0      0      0  \n",
       "..    ...    ...    ...    ...  \n",
       "208     0      0      0      0  \n",
       "209     0      0      0      0  \n",
       "210     0      0      0      0  \n",
       "211     0      0      0      0  \n",
       "212     0      0      0      0  \n",
       "\n",
       "[213 rows x 15 columns]"
      ]
     },
     "execution_count": 2,
     "metadata": {},
     "output_type": "execute_result"
    }
   ],
   "source": [
    "training_orig_df = pd.read_excel('datasets\\\\rgb.xlsx')\n",
    "training_orig_df"
   ]
  },
  {
   "cell_type": "code",
   "execution_count": 3,
   "metadata": {},
   "outputs": [],
   "source": [
    "training_df = training_orig_df.copy()\n",
    "training_df.drop(columns=['Name'], inplace=True)"
   ]
  },
  {
   "cell_type": "markdown",
   "metadata": {},
   "source": [
    "The data is then split into training and validation data using the `split_training_val_data()` function. Here a percentage can be set."
   ]
  },
  {
   "cell_type": "code",
   "execution_count": 4,
   "metadata": {},
   "outputs": [],
   "source": [
    "train_df, val_df = hlp.split_training_val_data(training_df, 0.2)"
   ]
  },
  {
   "cell_type": "markdown",
   "metadata": {},
   "source": [
    "The training and validation data are then split into input and output data using the `split_input_output_data()` function. The column headers of the training input have to specified."
   ]
  },
  {
   "cell_type": "code",
   "execution_count": 5,
   "metadata": {},
   "outputs": [],
   "source": [
    "x_columns = ['R', 'G', 'B']\n",
    "y_columns = ['Beige', 'Yellow', 'Orange', 'Red', 'Purple', 'Blue', 'Green', 'Grey', 'Brown', 'White', 'Black']\n",
    "\n",
    "train_df_x, train_df_y = hlp.split_input_output_data(train_df, x_columns, y_columns)\n",
    "val_df_x, val_df_y = hlp.split_input_output_data(val_df, x_columns, y_columns)"
   ]
  },
  {
   "cell_type": "code",
   "execution_count": 6,
   "metadata": {},
   "outputs": [],
   "source": [
    "train_df_x_norm = hlp.normalize(train_df_x, 0, 255, -1, 1)\n",
    "val_df_x_norm = hlp.normalize(val_df_x, 0, 255, -1, 1)"
   ]
  },
  {
   "cell_type": "code",
   "execution_count": 7,
   "metadata": {},
   "outputs": [
    {
     "data": {
      "text/html": [
       "<div>\n",
       "<style scoped>\n",
       "    .dataframe tbody tr th:only-of-type {\n",
       "        vertical-align: middle;\n",
       "    }\n",
       "\n",
       "    .dataframe tbody tr th {\n",
       "        vertical-align: top;\n",
       "    }\n",
       "\n",
       "    .dataframe thead th {\n",
       "        text-align: right;\n",
       "    }\n",
       "</style>\n",
       "<table border=\"1\" class=\"dataframe\">\n",
       "  <thead>\n",
       "    <tr style=\"text-align: right;\">\n",
       "      <th></th>\n",
       "      <th>R</th>\n",
       "      <th>G</th>\n",
       "      <th>B</th>\n",
       "    </tr>\n",
       "  </thead>\n",
       "  <tbody>\n",
       "    <tr>\n",
       "      <th>0</th>\n",
       "      <td>0.082353</td>\n",
       "      <td>-0.200000</td>\n",
       "      <td>-0.482353</td>\n",
       "    </tr>\n",
       "    <tr>\n",
       "      <th>1</th>\n",
       "      <td>0.490196</td>\n",
       "      <td>0.482353</td>\n",
       "      <td>-0.003922</td>\n",
       "    </tr>\n",
       "    <tr>\n",
       "      <th>2</th>\n",
       "      <td>0.521569</td>\n",
       "      <td>0.380392</td>\n",
       "      <td>-0.058824</td>\n",
       "    </tr>\n",
       "    <tr>\n",
       "      <th>3</th>\n",
       "      <td>0.552941</td>\n",
       "      <td>0.301961</td>\n",
       "      <td>-0.215686</td>\n",
       "    </tr>\n",
       "    <tr>\n",
       "      <th>4</th>\n",
       "      <td>0.607843</td>\n",
       "      <td>0.286275</td>\n",
       "      <td>-0.592157</td>\n",
       "    </tr>\n",
       "    <tr>\n",
       "      <th>...</th>\n",
       "      <td>...</td>\n",
       "      <td>...</td>\n",
       "      <td>...</td>\n",
       "    </tr>\n",
       "    <tr>\n",
       "      <th>165</th>\n",
       "      <td>0.874510</td>\n",
       "      <td>0.325490</td>\n",
       "      <td>-0.419608</td>\n",
       "    </tr>\n",
       "    <tr>\n",
       "      <th>166</th>\n",
       "      <td>0.905882</td>\n",
       "      <td>0.247059</td>\n",
       "      <td>-0.811765</td>\n",
       "    </tr>\n",
       "    <tr>\n",
       "      <th>167</th>\n",
       "      <td>0.905882</td>\n",
       "      <td>0.294118</td>\n",
       "      <td>-0.960784</td>\n",
       "    </tr>\n",
       "    <tr>\n",
       "      <th>168</th>\n",
       "      <td>0.945098</td>\n",
       "      <td>0.905882</td>\n",
       "      <td>-0.584314</td>\n",
       "    </tr>\n",
       "    <tr>\n",
       "      <th>169</th>\n",
       "      <td>0.960784</td>\n",
       "      <td>0.647059</td>\n",
       "      <td>-0.992157</td>\n",
       "    </tr>\n",
       "  </tbody>\n",
       "</table>\n",
       "<p>170 rows × 3 columns</p>\n",
       "</div>"
      ],
      "text/plain": [
       "            R         G         B\n",
       "0    0.082353 -0.200000 -0.482353\n",
       "1    0.490196  0.482353 -0.003922\n",
       "2    0.521569  0.380392 -0.058824\n",
       "3    0.552941  0.301961 -0.215686\n",
       "4    0.607843  0.286275 -0.592157\n",
       "..        ...       ...       ...\n",
       "165  0.874510  0.325490 -0.419608\n",
       "166  0.905882  0.247059 -0.811765\n",
       "167  0.905882  0.294118 -0.960784\n",
       "168  0.945098  0.905882 -0.584314\n",
       "169  0.960784  0.647059 -0.992157\n",
       "\n",
       "[170 rows x 3 columns]"
      ]
     },
     "execution_count": 7,
     "metadata": {},
     "output_type": "execute_result"
    }
   ],
   "source": [
    "train_df_x_norm"
   ]
  },
  {
   "cell_type": "markdown",
   "metadata": {},
   "source": [
    "## Instanciate a model\n",
    "\n",
    "`add_layer` adds a new layer to the model. The amount of neurons and the desired activation function can be set. Layer 0 is automatically set to be the input layer. Weights and biases are randomly assigned."
   ]
  },
  {
   "cell_type": "code",
   "execution_count": 8,
   "metadata": {},
   "outputs": [],
   "source": [
    "mdl = Network_Model()\n",
    "mdl.add_layer(3)\n",
    "mdl.add_layer(16, activation_function='sigmoid')\n",
    "mdl.add_layer(11, activation_function='sigmoid')"
   ]
  },
  {
   "cell_type": "markdown",
   "metadata": {},
   "source": [
    "Using `plot_network`, the Model can be visualized."
   ]
  },
  {
   "cell_type": "code",
   "execution_count": 9,
   "metadata": {},
   "outputs": [
    {
     "data": {
      "text/markdown": [
       "<div style=\"border-style:outset; border-radius: 1ex; border-color: white; padding: 0.5ex; text-align: center; float: left; margin: 0.25ex; width: fit-content\">(0, 1)<br>net 0<br>act 0<br>out 0</div><div style=\"border-style:outset; border-radius: 1ex; border-color: white; padding: 0.5ex; text-align: center; float: left; margin: 0.25ex; width: fit-content\">(0, 2)<br>net 0<br>act 0<br>out 0</div><div style=\"border-style:outset; border-radius: 1ex; border-color: white; padding: 0.5ex; text-align: center; float: left; margin: 0.25ex; width: fit-content\">(0, 3)<br>net 0<br>act 0<br>out 0</div>"
      ],
      "text/plain": [
       "<IPython.core.display.Markdown object>"
      ]
     },
     "metadata": {},
     "output_type": "display_data"
    },
    {
     "data": {
      "text/markdown": [
       "<div style=\"border-style:outset; border-radius: 1ex; border-color: white; padding: 0.5ex; text-align: center; float: left; margin: 0.25ex; width: fit-content\">(1, 1)<br>net 0<br>act 0<br>out 0</div><div style=\"border-style:outset; border-radius: 1ex; border-color: white; padding: 0.5ex; text-align: center; float: left; margin: 0.25ex; width: fit-content\">(1, 2)<br>net 0<br>act 0<br>out 0</div><div style=\"border-style:outset; border-radius: 1ex; border-color: white; padding: 0.5ex; text-align: center; float: left; margin: 0.25ex; width: fit-content\">(1, 3)<br>net 0<br>act 0<br>out 0</div><div style=\"border-style:outset; border-radius: 1ex; border-color: white; padding: 0.5ex; text-align: center; float: left; margin: 0.25ex; width: fit-content\">(1, 4)<br>net 0<br>act 0<br>out 0</div><div style=\"border-style:outset; border-radius: 1ex; border-color: white; padding: 0.5ex; text-align: center; float: left; margin: 0.25ex; width: fit-content\">(1, 5)<br>net 0<br>act 0<br>out 0</div><div style=\"border-style:outset; border-radius: 1ex; border-color: white; padding: 0.5ex; text-align: center; float: left; margin: 0.25ex; width: fit-content\">(1, 6)<br>net 0<br>act 0<br>out 0</div><div style=\"border-style:outset; border-radius: 1ex; border-color: white; padding: 0.5ex; text-align: center; float: left; margin: 0.25ex; width: fit-content\">(1, 7)<br>net 0<br>act 0<br>out 0</div><div style=\"border-style:outset; border-radius: 1ex; border-color: white; padding: 0.5ex; text-align: center; float: left; margin: 0.25ex; width: fit-content\">(1, 8)<br>net 0<br>act 0<br>out 0</div><div style=\"border-style:outset; border-radius: 1ex; border-color: white; padding: 0.5ex; text-align: center; float: left; margin: 0.25ex; width: fit-content\">(1, 9)<br>net 0<br>act 0<br>out 0</div><div style=\"border-style:outset; border-radius: 1ex; border-color: white; padding: 0.5ex; text-align: center; float: left; margin: 0.25ex; width: fit-content\">(1, 10)<br>net 0<br>act 0<br>out 0</div><div style=\"border-style:outset; border-radius: 1ex; border-color: white; padding: 0.5ex; text-align: center; float: left; margin: 0.25ex; width: fit-content\">(1, 11)<br>net 0<br>act 0<br>out 0</div><div style=\"border-style:outset; border-radius: 1ex; border-color: white; padding: 0.5ex; text-align: center; float: left; margin: 0.25ex; width: fit-content\">(1, 12)<br>net 0<br>act 0<br>out 0</div><div style=\"border-style:outset; border-radius: 1ex; border-color: white; padding: 0.5ex; text-align: center; float: left; margin: 0.25ex; width: fit-content\">(1, 13)<br>net 0<br>act 0<br>out 0</div><div style=\"border-style:outset; border-radius: 1ex; border-color: white; padding: 0.5ex; text-align: center; float: left; margin: 0.25ex; width: fit-content\">(1, 14)<br>net 0<br>act 0<br>out 0</div><div style=\"border-style:outset; border-radius: 1ex; border-color: white; padding: 0.5ex; text-align: center; float: left; margin: 0.25ex; width: fit-content\">(1, 15)<br>net 0<br>act 0<br>out 0</div><div style=\"border-style:outset; border-radius: 1ex; border-color: white; padding: 0.5ex; text-align: center; float: left; margin: 0.25ex; width: fit-content\">(1, 16)<br>net 0<br>act 0<br>out 0</div>"
      ],
      "text/plain": [
       "<IPython.core.display.Markdown object>"
      ]
     },
     "metadata": {},
     "output_type": "display_data"
    },
    {
     "data": {
      "text/markdown": [
       "<div style=\"border-style:outset; border-radius: 1ex; border-color: white; padding: 0.5ex; text-align: center; float: left; margin: 0.25ex; width: fit-content\">(2, 1)<br>net 0<br>act 0<br>out 0</div><div style=\"border-style:outset; border-radius: 1ex; border-color: white; padding: 0.5ex; text-align: center; float: left; margin: 0.25ex; width: fit-content\">(2, 2)<br>net 0<br>act 0<br>out 0</div><div style=\"border-style:outset; border-radius: 1ex; border-color: white; padding: 0.5ex; text-align: center; float: left; margin: 0.25ex; width: fit-content\">(2, 3)<br>net 0<br>act 0<br>out 0</div><div style=\"border-style:outset; border-radius: 1ex; border-color: white; padding: 0.5ex; text-align: center; float: left; margin: 0.25ex; width: fit-content\">(2, 4)<br>net 0<br>act 0<br>out 0</div><div style=\"border-style:outset; border-radius: 1ex; border-color: white; padding: 0.5ex; text-align: center; float: left; margin: 0.25ex; width: fit-content\">(2, 5)<br>net 0<br>act 0<br>out 0</div><div style=\"border-style:outset; border-radius: 1ex; border-color: white; padding: 0.5ex; text-align: center; float: left; margin: 0.25ex; width: fit-content\">(2, 6)<br>net 0<br>act 0<br>out 0</div><div style=\"border-style:outset; border-radius: 1ex; border-color: white; padding: 0.5ex; text-align: center; float: left; margin: 0.25ex; width: fit-content\">(2, 7)<br>net 0<br>act 0<br>out 0</div><div style=\"border-style:outset; border-radius: 1ex; border-color: white; padding: 0.5ex; text-align: center; float: left; margin: 0.25ex; width: fit-content\">(2, 8)<br>net 0<br>act 0<br>out 0</div><div style=\"border-style:outset; border-radius: 1ex; border-color: white; padding: 0.5ex; text-align: center; float: left; margin: 0.25ex; width: fit-content\">(2, 9)<br>net 0<br>act 0<br>out 0</div><div style=\"border-style:outset; border-radius: 1ex; border-color: white; padding: 0.5ex; text-align: center; float: left; margin: 0.25ex; width: fit-content\">(2, 10)<br>net 0<br>act 0<br>out 0</div><div style=\"border-style:outset; border-radius: 1ex; border-color: white; padding: 0.5ex; text-align: center; float: left; margin: 0.25ex; width: fit-content\">(2, 11)<br>net 0<br>act 0<br>out 0</div>"
      ],
      "text/plain": [
       "<IPython.core.display.Markdown object>"
      ]
     },
     "metadata": {},
     "output_type": "display_data"
    }
   ],
   "source": [
    "mdl.plot_network()"
   ]
  },
  {
   "cell_type": "markdown",
   "metadata": {},
   "source": [
    "Using `get_weights()`, the weights can be displayed. Weihts of row 0 are weights of the bias neuron of the respective layer."
   ]
  },
  {
   "cell_type": "code",
   "execution_count": 10,
   "metadata": {},
   "outputs": [
    {
     "data": {
      "text/html": [
       "<div>\n",
       "<style scoped>\n",
       "    .dataframe tbody tr th:only-of-type {\n",
       "        vertical-align: middle;\n",
       "    }\n",
       "\n",
       "    .dataframe tbody tr th {\n",
       "        vertical-align: top;\n",
       "    }\n",
       "\n",
       "    .dataframe thead th {\n",
       "        text-align: right;\n",
       "    }\n",
       "</style>\n",
       "<table border=\"1\" class=\"dataframe\">\n",
       "  <thead>\n",
       "    <tr style=\"text-align: right;\">\n",
       "      <th></th>\n",
       "      <th>0</th>\n",
       "      <th>1</th>\n",
       "      <th>2</th>\n",
       "      <th>3</th>\n",
       "      <th>4</th>\n",
       "      <th>5</th>\n",
       "      <th>6</th>\n",
       "      <th>7</th>\n",
       "      <th>8</th>\n",
       "      <th>9</th>\n",
       "      <th>10</th>\n",
       "      <th>11</th>\n",
       "      <th>12</th>\n",
       "      <th>13</th>\n",
       "      <th>14</th>\n",
       "      <th>15</th>\n",
       "    </tr>\n",
       "  </thead>\n",
       "  <tbody>\n",
       "    <tr>\n",
       "      <th>0</th>\n",
       "      <td>-0.506228</td>\n",
       "      <td>-0.021506</td>\n",
       "      <td>0.773269</td>\n",
       "      <td>-0.599807</td>\n",
       "      <td>0.682531</td>\n",
       "      <td>0.839760</td>\n",
       "      <td>-0.185028</td>\n",
       "      <td>-0.516564</td>\n",
       "      <td>-0.581524</td>\n",
       "      <td>-0.478289</td>\n",
       "      <td>0.778081</td>\n",
       "      <td>-0.615481</td>\n",
       "      <td>-0.898625</td>\n",
       "      <td>-0.225850</td>\n",
       "      <td>-0.940968</td>\n",
       "      <td>0.153242</td>\n",
       "    </tr>\n",
       "    <tr>\n",
       "      <th>1</th>\n",
       "      <td>-0.667075</td>\n",
       "      <td>-0.066505</td>\n",
       "      <td>0.197652</td>\n",
       "      <td>-0.417033</td>\n",
       "      <td>-0.003006</td>\n",
       "      <td>-0.655488</td>\n",
       "      <td>-0.032162</td>\n",
       "      <td>-0.765115</td>\n",
       "      <td>-0.118753</td>\n",
       "      <td>0.636937</td>\n",
       "      <td>-0.425144</td>\n",
       "      <td>0.956141</td>\n",
       "      <td>-0.137021</td>\n",
       "      <td>-0.669964</td>\n",
       "      <td>-0.323869</td>\n",
       "      <td>-0.749816</td>\n",
       "    </tr>\n",
       "    <tr>\n",
       "      <th>2</th>\n",
       "      <td>0.740055</td>\n",
       "      <td>-0.249126</td>\n",
       "      <td>-0.507878</td>\n",
       "      <td>-0.003430</td>\n",
       "      <td>-0.341776</td>\n",
       "      <td>0.095473</td>\n",
       "      <td>-0.876012</td>\n",
       "      <td>-0.610149</td>\n",
       "      <td>-0.331005</td>\n",
       "      <td>0.443036</td>\n",
       "      <td>0.118634</td>\n",
       "      <td>0.948953</td>\n",
       "      <td>0.486803</td>\n",
       "      <td>0.907122</td>\n",
       "      <td>0.173056</td>\n",
       "      <td>-0.890446</td>\n",
       "    </tr>\n",
       "    <tr>\n",
       "      <th>3</th>\n",
       "      <td>-0.512343</td>\n",
       "      <td>-0.989201</td>\n",
       "      <td>0.241404</td>\n",
       "      <td>-0.529158</td>\n",
       "      <td>0.912006</td>\n",
       "      <td>-0.806030</td>\n",
       "      <td>-0.336268</td>\n",
       "      <td>-0.830312</td>\n",
       "      <td>-0.045573</td>\n",
       "      <td>-0.339299</td>\n",
       "      <td>0.539326</td>\n",
       "      <td>-0.251209</td>\n",
       "      <td>-0.561529</td>\n",
       "      <td>-0.438973</td>\n",
       "      <td>0.751982</td>\n",
       "      <td>0.654794</td>\n",
       "    </tr>\n",
       "  </tbody>\n",
       "</table>\n",
       "</div>"
      ],
      "text/plain": [
       "         0         1         2         3         4         5         6   \\\n",
       "0 -0.506228 -0.021506  0.773269 -0.599807  0.682531  0.839760 -0.185028   \n",
       "1 -0.667075 -0.066505  0.197652 -0.417033 -0.003006 -0.655488 -0.032162   \n",
       "2  0.740055 -0.249126 -0.507878 -0.003430 -0.341776  0.095473 -0.876012   \n",
       "3 -0.512343 -0.989201  0.241404 -0.529158  0.912006 -0.806030 -0.336268   \n",
       "\n",
       "         7         8         9         10        11        12        13  \\\n",
       "0 -0.516564 -0.581524 -0.478289  0.778081 -0.615481 -0.898625 -0.225850   \n",
       "1 -0.765115 -0.118753  0.636937 -0.425144  0.956141 -0.137021 -0.669964   \n",
       "2 -0.610149 -0.331005  0.443036  0.118634  0.948953  0.486803  0.907122   \n",
       "3 -0.830312 -0.045573 -0.339299  0.539326 -0.251209 -0.561529 -0.438973   \n",
       "\n",
       "         14        15  \n",
       "0 -0.940968  0.153242  \n",
       "1 -0.323869 -0.749816  \n",
       "2  0.173056 -0.890446  \n",
       "3  0.751982  0.654794  "
      ]
     },
     "execution_count": 10,
     "metadata": {},
     "output_type": "execute_result"
    }
   ],
   "source": [
    "mdl.layers[1].get_weights()"
   ]
  },
  {
   "cell_type": "markdown",
   "metadata": {},
   "source": [
    "Using the `predict()` method, a prediction is made based on a given input-vector. Since the model is not trained yet, the output is random."
   ]
  },
  {
   "cell_type": "code",
   "execution_count": 11,
   "metadata": {},
   "outputs": [
    {
     "name": "stdout",
     "output_type": "stream",
     "text": [
      "Purple\n"
     ]
    },
    {
     "data": {
      "text/markdown": [
       "<div style=\"height: 100px; width: 100px; background-color: rgb(67.575,38.25000000000001,25.499999999999993);\"></div>"
      ],
      "text/plain": [
       "<IPython.core.display.Markdown object>"
      ]
     },
     "metadata": {},
     "output_type": "display_data"
    }
   ],
   "source": [
    "rgb = [67, 38, 26]\n",
    "input = chlp.rgb_to_norm(rgb)\n",
    "pred = mdl.predict(input)\n",
    "print(y_columns[pred.index(max(pred))])\n",
    "chlp.plot_color(input)"
   ]
  },
  {
   "cell_type": "markdown",
   "metadata": {},
   "source": [
    "## Training the model"
   ]
  },
  {
   "cell_type": "code",
   "execution_count": 18,
   "metadata": {},
   "outputs": [
    {
     "data": {
      "text/plain": [
       "[<matplotlib.lines.Line2D at 0x22473f674c0>]"
      ]
     },
     "execution_count": 18,
     "metadata": {},
     "output_type": "execute_result"
    },
    {
     "data": {
      "image/png": "[encoded data removed]",
      "text/plain": [
       "<Figure size 432x288 with 1 Axes>"
      ]
     },
     "metadata": {
      "needs_background": "light"
     },
     "output_type": "display_data"
    }
   ],
   "source": [
    "history = mdl.train(train_df_x_norm, train_df_y, epochs=100, debug=False, learning_rate=0.5)\n",
    "plt.plot(history)"
   ]
  },
  {
   "cell_type": "code",
   "execution_count": 33,
   "metadata": {},
   "outputs": [
    {
     "name": "stdout",
     "output_type": "stream",
     "text": [
      "Black\n"
     ]
    },
    {
     "data": {
      "text/markdown": [
       "<div style=\"height: 100px; width: 100px; background-color: rgb(1.2750000000000012,1.2750000000000012,0.0);\"></div>"
      ],
      "text/plain": [
       "<IPython.core.display.Markdown object>"
      ]
     },
     "metadata": {},
     "output_type": "display_data"
    }
   ],
   "source": [
    "rgb = [1, 1, 0] # https://www.w3schools.com/colors/colors_rgb.asp\n",
    "input = chlp.rgb_to_norm(rgb)\n",
    "pred = mdl.predict(input)\n",
    "print(y_columns[pred.index(max(pred))])\n",
    "chlp.plot_color(input)\n",
    "\n",
    "# 'Beige', 'Yellow', 'Orange', 'Red', 'Purple', 'Blue', 'Green', 'Grey', 'Brown', 'White', 'Black'"
   ]
  }
 ],
 "metadata": {
  "interpreter": {
   "hash": "f761d2206074d82dd8e41bd143266f9d3dcf5f45b684a45cd98ca9fdc4a46ee0"
  },
  "kernelspec": {
   "display_name": "Python 3.10.1 64-bit",
   "language": "python",
   "name": "python3"
  },
  "language_info": {
   "codemirror_mode": {
    "name": "ipython",
    "version": 3
   },
   "file_extension": ".py",
   "mimetype": "text/x-python",
   "name": "python",
   "nbconvert_exporter": "python",
   "pygments_lexer": "ipython3",
   "version": "3.10.1"
  },
  "orig_nbformat": 4
 },
 "nbformat": 4,
 "nbformat_minor": 2
}
