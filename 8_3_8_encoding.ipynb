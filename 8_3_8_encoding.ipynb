{
 "cells": [
  {
   "cell_type": "code",
   "execution_count": null,
   "metadata": {},
   "outputs": [],
   "source": [
    "from model.classes import network\n",
    "from model import helpers as hlp\n",
    "import pandas as pd"
   ]
  },
  {
   "cell_type": "code",
   "execution_count": null,
   "metadata": {},
   "outputs": [],
   "source": [
    "training_orig_df = pd.read_excel('datasets\\\\8_3_8.xlsx')\n",
    "training_df = training_orig_df.copy()\n",
    "training_df"
   ]
  },
  {
   "cell_type": "code",
   "execution_count": null,
   "metadata": {},
   "outputs": [],
   "source": [
    "x_columns = ['input_1', 'input_2', 'input_3', 'input_4', 'input_5', 'input_6', 'input_7', 'input_8']\n",
    "y_columns = ['output_1', 'output_2', 'output_3', 'output_4', 'output_5', 'output_6', 'output_7', 'output_8']\n",
    "\n",
    "train_df_x, train_df_y = hlp.split_input_output_data(training_df, x_columns, y_columns)\n",
    "train_df_x_norm = hlp.normalize(train_df_x, 0, 8, -1, 1)"
   ]
  },
  {
   "cell_type": "code",
   "execution_count": null,
   "metadata": {},
   "outputs": [],
   "source": [
    "mdl_8_3_8 = network.Feed_Forward()\n",
    "mdl_8_3_8.add_layer(8)\n",
    "mdl_8_3_8.add_layer(3, activation_function='sigmoid')\n",
    "mdl_8_3_8.add_layer(8, activation_function='sigmoid')"
   ]
  },
  {
   "cell_type": "code",
   "execution_count": null,
   "metadata": {},
   "outputs": [],
   "source": [
    "history = mdl_8_3_8.train(\n",
    "    train_df_x_norm, train_df_y,\n",
    "    epochs=1000,\n",
    "    mode='offline',\n",
    "    rprop=True,\n",
    "    logging=True,\n",
    "    shuffle=True\n",
    ")\n",
    "# hlp.plot_learning_curve(history)"
   ]
  },
  {
   "cell_type": "code",
   "execution_count": null,
   "metadata": {},
   "outputs": [],
   "source": [
    "for l in mdl_8_3_8.layers:\n",
    "    if l.id > 0: print(l.get_weights())"
   ]
  },
  {
   "cell_type": "code",
   "execution_count": null,
   "metadata": {},
   "outputs": [],
   "source": [
    "for i in range(1, 9):\n",
    "    match i:\n",
    "        case 1:\n",
    "            input_vec = [1, -1, -1, -1, -1, -1, -1, -1]\n",
    "        case 2:\n",
    "            input_vec = [-1, 1, -1, -1, -1, -1, -1, -1]\n",
    "        case 3:\n",
    "            input_vec = [-1, -1, 1, -1, -1, -1, -1, -1]\n",
    "        case 4:\n",
    "            input_vec = [-1, -1, -1, 1, -1, -1, -1, -1]\n",
    "        case 5:\n",
    "            input_vec = [-1, -1, -1, -1, 1, -1, -1, -1]\n",
    "        case 6:\n",
    "            input_vec = [-1, -1, -1, -1, -1, 1, -1, -1]\n",
    "        case 7:\n",
    "            input_vec = [-1, -1, -1, -1, -1, -1, 1, -1]\n",
    "        case 8:\n",
    "            input_vec = [-1, -1, -1, -1, -1, -1, -1, 1]\n",
    "    pred = mdl_8_3_8.predict(input_vec)\n",
    "    print(y_columns[pred.index(max(pred))][-1])"
   ]
  }
 ],
 "metadata": {
  "interpreter": {
   "hash": "deee277ef8cb4a05cf6441d551c854fa5e547ddedbca2c10e6f5685ea62b6c02"
  },
  "kernelspec": {
   "display_name": "Python 3.10.1 64-bit",
   "language": "python",
   "name": "python3"
  },
  "language_info": {
   "codemirror_mode": {
    "name": "ipython",
    "version": 3
   },
   "file_extension": ".py",
   "mimetype": "text/x-python",
   "name": "python",
   "nbconvert_exporter": "python",
   "pygments_lexer": "ipython3",
   "version": "3.10.4"
  },
  "orig_nbformat": 4
 },
 "nbformat": 4,
 "nbformat_minor": 2
}
