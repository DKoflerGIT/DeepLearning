{
 "cells": [
  {
   "cell_type": "code",
   "execution_count": 1,
   "metadata": {},
   "outputs": [],
   "source": [
    "from classes import Neuron, Layer, Network_Model\n",
    "import helpers as hlp\n",
    "import pandas as pd\n",
    "import math\n",
    "import random as rnd\n",
    "import numpy as np"
   ]
  },
  {
   "cell_type": "code",
   "execution_count": 2,
   "metadata": {},
   "outputs": [],
   "source": [
    "mdl = Network_Model()\n",
    "mdl.add_layer(3)\n",
    "mdl.add_layer(1, activation_function='identity')"
   ]
  },
  {
   "cell_type": "code",
   "execution_count": 5,
   "metadata": {},
   "outputs": [],
   "source": [
    "x = [0.1, 0.9, 0.1]\n",
    "t = [1]"
   ]
  },
  {
   "cell_type": "code",
   "execution_count": 6,
   "metadata": {},
   "outputs": [],
   "source": [
    "def get_error(): \n",
    "    y = mdl.predict(x)\n",
    "    Err_p = 0\n",
    "    E_p = []\n",
    "    temp_sum = 0\n",
    "\n",
    "    for j,y_j in enumerate(y):\n",
    "        E_p.append((t[j] if type(t) == list else t) - y_j)\n",
    "\n",
    "    temp_sum = 0\n",
    "    for e in E_p:\n",
    "        temp_sum += e * e\n",
    "\n",
    "    Err_p = 1/2 * temp_sum\n",
    "    \n",
    "    print(x)\n",
    "    print(y)\n",
    "    print(t)\n",
    "    print(E_p)\n",
    "    print(Err_p)\n",
    "\n",
    "    return(E_p)"
   ]
  },
  {
   "cell_type": "code",
   "execution_count": 7,
   "metadata": {},
   "outputs": [
    {
     "name": "stdout",
     "output_type": "stream",
     "text": [
      "[0.1, 0.9, 0.1]\n",
      "[-0.7612155271894685]\n",
      "[1]\n",
      "[1.7612155271894685]\n",
      "1.5509400666066386\n"
     ]
    }
   ],
   "source": [
    "E_p = get_error()"
   ]
  },
  {
   "cell_type": "code",
   "execution_count": 19,
   "metadata": {},
   "outputs": [
    {
     "data": {
      "text/html": [
       "<div>\n",
       "<style scoped>\n",
       "    .dataframe tbody tr th:only-of-type {\n",
       "        vertical-align: middle;\n",
       "    }\n",
       "\n",
       "    .dataframe tbody tr th {\n",
       "        vertical-align: top;\n",
       "    }\n",
       "\n",
       "    .dataframe thead th {\n",
       "        text-align: right;\n",
       "    }\n",
       "</style>\n",
       "<table border=\"1\" class=\"dataframe\">\n",
       "  <thead>\n",
       "    <tr style=\"text-align: right;\">\n",
       "      <th></th>\n",
       "      <th>0</th>\n",
       "    </tr>\n",
       "  </thead>\n",
       "  <tbody>\n",
       "    <tr>\n",
       "      <th>0</th>\n",
       "      <td>-0.440349</td>\n",
       "    </tr>\n",
       "    <tr>\n",
       "      <th>1</th>\n",
       "      <td>0.599707</td>\n",
       "    </tr>\n",
       "    <tr>\n",
       "      <th>2</th>\n",
       "      <td>0.891401</td>\n",
       "    </tr>\n",
       "    <tr>\n",
       "      <th>3</th>\n",
       "      <td>-0.003568</td>\n",
       "    </tr>\n",
       "  </tbody>\n",
       "</table>\n",
       "</div>"
      ],
      "text/plain": [
       "          0\n",
       "0 -0.440349\n",
       "1  0.599707\n",
       "2  0.891401\n",
       "3 -0.003568"
      ]
     },
     "execution_count": 19,
     "metadata": {},
     "output_type": "execute_result"
    }
   ],
   "source": [
    "mdl.layers[1].get_weights()"
   ]
  },
  {
   "cell_type": "code",
   "execution_count": 12,
   "metadata": {},
   "outputs": [],
   "source": [
    "delta_w = []\n",
    "learning_rate = 0.5\n",
    "\n",
    "for layer in range(len(mdl.layers) - 1, 0, -1):\n",
    "    is_output_layer = layer == len(mdl.layers) - 1\n",
    "\n",
    "    # current layer neurons\n",
    "    neurons_h = mdl.layers[layer].neurons\n",
    "\n",
    "    # previous layer neurons\n",
    "    neurons_k = mdl.layers[layer - 1].neurons.copy()\n",
    "    neurons_k.insert(0, mdl.layers[layer].bias_neuron)\n",
    "\n",
    "    # following layer neurons\n",
    "    neurons_l = None if is_output_layer else mdl.layers[layer + 1].neurons\n",
    "    \n",
    "    act_func = mdl.layers[layer].activation_function\n",
    "    delta_w.insert(0,[])\n",
    "\n",
    "    for j,h in enumerate(neurons_h):\n",
    "        delta_w[0].append([])\n",
    "        act_der = h.do_activate_der(act_func)\n",
    "        for i,k in enumerate(neurons_k):\n",
    "            del_h = 0\n",
    "\n",
    "            # del_h for output neurons\n",
    "            if is_output_layer:\n",
    "                del_h = act_der * E_p[h.id[1] - 1]\n",
    "                h.set_delta(del_h)\n",
    "\n",
    "            # del_h for hidden neurons\n",
    "            else:\n",
    "                for l in neurons_l:\n",
    "                    del_h += l.delta * mdl.layers[layer + 1].weights[h.id[1]][l.id[1] - 1]\n",
    "                del_h *= act_der\n",
    "                h.set_delta(del_h)\n",
    "\n",
    "            w = learning_rate * k.output * del_h\n",
    "            delta_w[0][-1].append(w)\n",
    "\n",
    "delta_w_t = list(map(list, zip(*delta_w)))"
   ]
  },
  {
   "cell_type": "code",
   "execution_count": 9,
   "metadata": {},
   "outputs": [
    {
     "name": "stdout",
     "output_type": "stream",
     "text": [
      "\n",
      "Layer 1\n",
      "\n",
      "current weights \n",
      "          0\n",
      "0 -0.775944\n",
      "1 -0.900497\n",
      "2  0.099626\n",
      "3  0.151148\n",
      "\n",
      "delta weights \n",
      "          0\n",
      "0  0.880608\n",
      "1  0.088061\n",
      "2  0.792547\n",
      "3  0.088061\n",
      "\n"
     ]
    }
   ],
   "source": [
    "for i,l in enumerate(mdl.layers):\n",
    "    if i != 0:\n",
    "        print('Layer ' + str(i))\n",
    "        print('')\n",
    "        print('current weights ')\n",
    "        print(l.get_weights())\n",
    "        print('')\n",
    "        print('delta weights ')\n",
    "        delta_i_t = list(map(list, zip(*delta_w[i - 1])))\n",
    "        print(pd.DataFrame(delta_i_t))\n",
    "\n",
    "    print('')"
   ]
  },
  {
   "cell_type": "code",
   "execution_count": 13,
   "metadata": {},
   "outputs": [
    {
     "name": "stdout",
     "output_type": "stream",
     "text": [
      "changed weight w_1_0_0 from 0.10466353970934583 to 0.1795151996148982\n",
      "changed weight w_1_1_0 from -0.8124361226280852 to -0.8049509566375299\n",
      "changed weight w_1_2_0 from 0.892173219685148 to 0.9595397136001451\n",
      "changed weight w_1_3_0 from 0.23920855025724722 to 0.24669371624780245\n"
     ]
    }
   ],
   "source": [
    "for i,l in enumerate(mdl.layers):\n",
    "    if i != 0:\n",
    "        delta_i_t = list(map(list, zip(*delta_w[i - 1])))\n",
    "        for k in range(len(l.weights)):\n",
    "            for h in range(len(l.weights[0])):\n",
    "                print('changed weight w_' + str(i) + '_' + str(k) + '_' + str(h) + ' from ' + str(l.weights[k][h]) + ' to ' + str(l.weights[k][h] + delta_i_t[k][h]))\n",
    "                l.weights[k][h] = l.weights[k][h] + delta_i_t[k][h]"
   ]
  },
  {
   "cell_type": "code",
   "execution_count": 14,
   "metadata": {},
   "outputs": [
    {
     "name": "stdout",
     "output_type": "stream",
     "text": [
      "[0.1, 0.9, 0.1]\n",
      "[0.9872752178160561]\n",
      "[1]\n",
      "[0.012724782183943906]\n",
      "8.096004081440811e-05\n"
     ]
    }
   ],
   "source": [
    "E_p = get_error()"
   ]
  }
 ],
 "metadata": {
  "interpreter": {
   "hash": "f761d2206074d82dd8e41bd143266f9d3dcf5f45b684a45cd98ca9fdc4a46ee0"
  },
  "kernelspec": {
   "display_name": "Python 3.10.1 64-bit",
   "language": "python",
   "name": "python3"
  },
  "language_info": {
   "codemirror_mode": {
    "name": "ipython",
    "version": 3
   },
   "file_extension": ".py",
   "mimetype": "text/x-python",
   "name": "python",
   "nbconvert_exporter": "python",
   "pygments_lexer": "ipython3",
   "version": "3.10.1"
  },
  "orig_nbformat": 4
 },
 "nbformat": 4,
 "nbformat_minor": 2
}
