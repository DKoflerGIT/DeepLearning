{
 "cells": [
  {
   "cell_type": "code",
   "execution_count": null,
   "metadata": {},
   "outputs": [],
   "source": [
    "from model.classes import network\n",
    "from model import helpers as hlp\n",
    "import pandas as pd"
   ]
  },
  {
   "cell_type": "code",
   "execution_count": null,
   "metadata": {},
   "outputs": [],
   "source": [
    "data = [\n",
    "    [0, 0, 0],\n",
    "    [0, 1, 1],\n",
    "    [1, 0, 1],\n",
    "    [1, 1, 1],\n",
    "]\n",
    "\n",
    "df = pd.DataFrame(data, columns=['X1', 'X2', 'Y'])\n",
    "df"
   ]
  },
  {
   "cell_type": "code",
   "execution_count": null,
   "metadata": {},
   "outputs": [],
   "source": [
    "x_columns = ['X1', 'X2']\n",
    "y_columns = ['Y']\n",
    "\n",
    "train_df_x, train_df_y = hlp.split_input_output_data(df, x_columns, y_columns)"
   ]
  },
  {
   "cell_type": "code",
   "execution_count": null,
   "metadata": {},
   "outputs": [],
   "source": [
    "mdl = network.Feed_Forward()\n",
    "mdl.add_layer(2)\n",
    "mdl.add_layer(5)\n",
    "mdl.add_layer(1, activation_function='sigmoid')"
   ]
  },
  {
   "cell_type": "code",
   "execution_count": null,
   "metadata": {},
   "outputs": [],
   "source": [
    "train_df_x_norm = hlp.normalize(train_df_x, 0, 1, -1, 1)\n",
    "train_df_y_norm = hlp.normalize(train_df_y, 0, 1, -1, 1)"
   ]
  },
  {
   "cell_type": "code",
   "execution_count": null,
   "metadata": {},
   "outputs": [],
   "source": [
    "history = mdl.train(\n",
    "    train_df_x_norm, train_df_y_norm,\n",
    "    epochs=25,\n",
    "    mode='offline',\n",
    "    rprop=True,\n",
    "    logging=True,\n",
    "    shuffle=True\n",
    ")"
   ]
  },
  {
   "cell_type": "code",
   "execution_count": null,
   "metadata": {},
   "outputs": [],
   "source": [
    "for l in mdl.layers:\n",
    "    if l.id > 0: print(l.get_weights())"
   ]
  }
 ],
 "metadata": {
  "interpreter": {
   "hash": "deee277ef8cb4a05cf6441d551c854fa5e547ddedbca2c10e6f5685ea62b6c02"
  },
  "kernelspec": {
   "display_name": "Python 3.10.4 64-bit",
   "language": "python",
   "name": "python3"
  },
  "language_info": {
   "codemirror_mode": {
    "name": "ipython",
    "version": 3
   },
   "file_extension": ".py",
   "mimetype": "text/x-python",
   "name": "python",
   "nbconvert_exporter": "python",
   "pygments_lexer": "ipython3",
   "version": "3.10.4"
  },
  "orig_nbformat": 4
 },
 "nbformat": 4,
 "nbformat_minor": 2
}
