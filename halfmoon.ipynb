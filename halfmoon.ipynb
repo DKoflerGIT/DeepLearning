{
 "cells": [
  {
   "cell_type": "code",
   "execution_count": null,
   "metadata": {},
   "outputs": [],
   "source": [
    "import math\n",
    "import numpy as np\n",
    "import matplotlib.pyplot as plt\n",
    "import pandas as pd\n",
    "\n",
    "from library.classes import Neuron, Layer, Network_Model\n",
    "from library import helpers as hlp\n",
    "import halfmoon_helpers as hmhlp"
   ]
  },
  {
   "cell_type": "code",
   "execution_count": null,
   "metadata": {},
   "outputs": [],
   "source": [
    "hm = hmhlp.halfMoon(500, 10, -5, 6)\n",
    "# hm = hmhlp.halfMoon(200, 10, 1, 6)"
   ]
  },
  {
   "cell_type": "code",
   "execution_count": null,
   "metadata": {},
   "outputs": [],
   "source": [
    "hmhlp.plotHalfMoon(hm[0], hm[1])"
   ]
  },
  {
   "cell_type": "code",
   "execution_count": null,
   "metadata": {},
   "outputs": [],
   "source": [
    "df_pts = pd.DataFrame(hm[0], columns=['x', 'y'])\n",
    "df_moons = pd.DataFrame(hm[1], columns=['in_red'])"
   ]
  },
  {
   "cell_type": "code",
   "execution_count": null,
   "metadata": {},
   "outputs": [],
   "source": [
    "df = pd.concat([df_pts, df_moons], axis=1, join='inner')"
   ]
  },
  {
   "cell_type": "code",
   "execution_count": null,
   "metadata": {},
   "outputs": [],
   "source": [
    "x_cols = ['x', 'y']\n",
    "y_cols = ['in_red']\n",
    "\n",
    "df_train_x, df_train_y = hlp.split_input_output_data(df, x_cols=x_cols, y_cols=y_cols)"
   ]
  },
  {
   "cell_type": "code",
   "execution_count": null,
   "metadata": {},
   "outputs": [],
   "source": [
    "df_train_x_norm = hlp.normalize(df_train_x, -15, 25, -1, 1)\n",
    "df_val_x_norm = hlp.normalize(df_train_x, -15, 25, -1, 1)"
   ]
  },
  {
   "cell_type": "code",
   "execution_count": null,
   "metadata": {},
   "outputs": [],
   "source": [
    "mdl_hm = Network_Model()\n",
    "mdl_hm.add_layer(2)\n",
    "mdl_hm.add_layer(16, 'sigmoid')\n",
    "mdl_hm.add_layer(4, 'sigmoid')\n",
    "mdl_hm.add_layer(1, 'sigmoid')"
   ]
  },
  {
   "cell_type": "code",
   "execution_count": null,
   "metadata": {},
   "outputs": [],
   "source": [
    "history = mdl_hm.train(\n",
    "    df_train_x_norm, df_train_y,\n",
    "    epochs=50, debug=False, shuffle=True,\n",
    "    learning_rate_p = 1, learning_rate_n = 1,\n",
    "    momentum_factor=0.7)\n",
    "    \n",
    "hlp.plot_learning_curve(history)"
   ]
  },
  {
   "cell_type": "code",
   "execution_count": null,
   "metadata": {},
   "outputs": [],
   "source": [
    "list_pts = df_pts.values.tolist()\n",
    "list_moons = df_moons.values.tolist()\n",
    "\n",
    "for l in range(len(list_pts)):\n",
    "    p = 0 if mdl_hm.predict(list_pts[l])[0] < 0.5 else 1\n",
    "    list_pts[l].append(p)\n",
    "    list_pts[l].append(int(list_moons[l][0]))"
   ]
  },
  {
   "cell_type": "code",
   "execution_count": null,
   "metadata": {},
   "outputs": [],
   "source": [
    "arr = []\n",
    "\n",
    "for i in range(-25,25):\n",
    "    for j in range(-25,25):\n",
    "        p = mdl_hm.predict([i, j])[0]\n",
    "        arr.append([i, j, p])"
   ]
  },
  {
   "cell_type": "code",
   "execution_count": null,
   "metadata": {},
   "outputs": [],
   "source": [
    "# np_array = np.array(list_pts)\n",
    "np_array = np.array(arr)\n",
    "transpose = np_array.T\n",
    "transpose_list = transpose.tolist()"
   ]
  },
  {
   "cell_type": "code",
   "execution_count": null,
   "metadata": {},
   "outputs": [],
   "source": [
    "# hmhlp.plotHalfMoon(hm[0], hm[1])\n",
    "plt.scatter(transpose_list[0], transpose_list[1], c=transpose_list[2], marker='o')"
   ]
  }
 ],
 "metadata": {
  "interpreter": {
   "hash": "f761d2206074d82dd8e41bd143266f9d3dcf5f45b684a45cd98ca9fdc4a46ee0"
  },
  "kernelspec": {
   "display_name": "Python 3.10.1 64-bit",
   "language": "python",
   "name": "python3"
  },
  "language_info": {
   "codemirror_mode": {
    "name": "ipython",
    "version": 3
   },
   "file_extension": ".py",
   "mimetype": "text/x-python",
   "name": "python",
   "nbconvert_exporter": "python",
   "pygments_lexer": "ipython3",
   "version": "3.10.1"
  },
  "orig_nbformat": 4
 },
 "nbformat": 4,
 "nbformat_minor": 2
}
