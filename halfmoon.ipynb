{
 "cells": [
  {
   "cell_type": "markdown",
   "metadata": {},
   "source": [
    "Imports"
   ]
  },
  {
   "cell_type": "code",
   "execution_count": null,
   "metadata": {},
   "outputs": [],
   "source": [
    "import numpy as np\n",
    "import matplotlib.pyplot as plt\n",
    "import pandas as pd\n",
    "\n",
    "from model.classes import network\n",
    "from model import helpers as hlp\n",
    "from halfmoon import halfmoon_helpers as hmhlp"
   ]
  },
  {
   "cell_type": "markdown",
   "metadata": {},
   "source": [
    "Create data"
   ]
  },
  {
   "cell_type": "code",
   "execution_count": null,
   "metadata": {},
   "outputs": [],
   "source": [
    "hm = hmhlp.halfMoon(2000, 10, -5, 6)\n",
    "hmhlp.plotHalfMoon(hm[0], hm[1])"
   ]
  },
  {
   "cell_type": "markdown",
   "metadata": {},
   "source": [
    "Convert data to dataframes"
   ]
  },
  {
   "cell_type": "code",
   "execution_count": null,
   "metadata": {},
   "outputs": [],
   "source": [
    "df_pts = pd.DataFrame(hm[0], columns=['x', 'y'])\n",
    "df_moons = pd.DataFrame(hm[1], columns=['in_red'])\n",
    "df = pd.concat([df_pts, df_moons], axis=1, join='inner')"
   ]
  },
  {
   "cell_type": "markdown",
   "metadata": {},
   "source": [
    "Split data"
   ]
  },
  {
   "cell_type": "code",
   "execution_count": null,
   "metadata": {},
   "outputs": [],
   "source": [
    "x_cols = ['x', 'y']\n",
    "y_cols = ['in_red']\n",
    "\n",
    "df_train, df_val = hlp.split_training_val_data(df)\n",
    "\n",
    "df_train_x, df_train_y = hlp.split_input_output_data(df_train, x_cols=x_cols, y_cols=y_cols)\n",
    "df_val_x, df_val_y = hlp.split_input_output_data(df_val, x_cols=x_cols, y_cols=y_cols)"
   ]
  },
  {
   "cell_type": "markdown",
   "metadata": {},
   "source": [
    "Normalize training and validation input"
   ]
  },
  {
   "cell_type": "code",
   "execution_count": null,
   "metadata": {},
   "outputs": [],
   "source": [
    "df_train_x_norm = hlp.normalize(df_train_x, -15, 25, -1, 1)\n",
    "df_val_x_norm = hlp.normalize(df_val_x, -15, 25, -1, 1)"
   ]
  },
  {
   "cell_type": "markdown",
   "metadata": {},
   "source": [
    "Create model instance"
   ]
  },
  {
   "cell_type": "code",
   "execution_count": null,
   "metadata": {},
   "outputs": [],
   "source": [
    "mdl_hm = network.Feed_Forward()\n",
    "mdl_hm.add_layer(2)\n",
    "mdl_hm.add_layer(5, activation_function='sigmoid')\n",
    "mdl_hm.add_layer(1, activation_function='sigmoid')"
   ]
  },
  {
   "cell_type": "markdown",
   "metadata": {},
   "source": [
    "Train the model"
   ]
  },
  {
   "cell_type": "code",
   "execution_count": null,
   "metadata": {},
   "outputs": [],
   "source": [
    "history = mdl_hm.train(\n",
    "    df_train_x_norm,\n",
    "    df_train_y,\n",
    "    epochs=200,\n",
    "    shuffle=True,\n",
    "    debug=True,\n",
    "    min_learning_rate=0.01,\n",
    "    max_error=0.00001,\n",
    "    adaptive_learning_rate=True\n",
    ")\n",
    "  \n",
    "hlp.plot_learning_curve(history, 'Epoch', 'Average Error')"
   ]
  },
  {
   "cell_type": "markdown",
   "metadata": {},
   "source": [
    "Validate trained model"
   ]
  },
  {
   "cell_type": "code",
   "execution_count": null,
   "metadata": {},
   "outputs": [],
   "source": [
    "vals = mdl_hm.create_validation_list(df_val_x_norm, df_val_y)\n",
    "\n",
    "debug = False\n",
    "misclassifications = 0\n",
    "\n",
    "for v in vals:\n",
    "    p = 1.0 if v[0][0] > 0.5 else 0.0\n",
    "    if p != v[1][0]:\n",
    "        misclassifications += 1\n",
    "        if debug: print(f'pred {v[0][0]}={p}, correct {v[1]} => X')\n",
    "    else:\n",
    "        if debug: print(f'pred {v[0][0]}={p}, correct {v[1][0]} => OK')\n",
    "print(f'{misclassifications} of {len(vals)} misclassifications.')\n"
   ]
  },
  {
   "cell_type": "markdown",
   "metadata": {},
   "source": [
    "Plot validated dataset"
   ]
  },
  {
   "cell_type": "code",
   "execution_count": null,
   "metadata": {},
   "outputs": [],
   "source": [
    "arr_val_x = np.array(df_val_x.values.tolist())\n",
    "arr_val_x_t = arr_val_x.T\n",
    "\n",
    "preds = []\n",
    "\n",
    "for v in vals:\n",
    "    preds.append(v[0][0])\n",
    "\n",
    "plt.scatter(arr_val_x_t[0], arr_val_x_t[1], c=preds)"
   ]
  }
 ],
 "metadata": {
  "interpreter": {
   "hash": "f761d2206074d82dd8e41bd143266f9d3dcf5f45b684a45cd98ca9fdc4a46ee0"
  },
  "kernelspec": {
   "display_name": "Python 3.10.1 64-bit",
   "language": "python",
   "name": "python3"
  },
  "language_info": {
   "codemirror_mode": {
    "name": "ipython",
    "version": 3
   },
   "file_extension": ".py",
   "mimetype": "text/x-python",
   "name": "python",
   "nbconvert_exporter": "python",
   "pygments_lexer": "ipython3",
   "version": "3.10.1"
  },
  "orig_nbformat": 4
 },
 "nbformat": 4,
 "nbformat_minor": 2
}
