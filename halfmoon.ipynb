{
 "cells": [
  {
   "cell_type": "code",
   "execution_count": 22,
   "metadata": {},
   "outputs": [],
   "source": [
    "import math\n",
    "import numpy as np\n",
    "import matplotlib.pyplot as plt"
   ]
  },
  {
   "cell_type": "code",
   "execution_count": 23,
   "metadata": {},
   "outputs": [],
   "source": [
    "def halfMoon(n,r,d,w):\n",
    "    \"\"\"half moon data, creates points the two dimensional Euclidean vector space which either belong to the upper or to the lower half of a moon;\n",
    "       the lower half is shifted horizntally and vertically; \n",
    "       [n] ... number of points to be created in each half\n",
    "       [r] ... radius of the moon\n",
    "       [d] ... vertical shifting of the lower half\n",
    "       [w] ... width of the moon (controls also the horizontal shifting of the lower half)\n",
    "\n",
    "       returns a tupel (p,t) whereby\n",
    "       [p] is a two dimensional numpy array with 2*n rows and 2 columns, p[j,] is the j-th created point\n",
    "       [t] is a one dimensinal numpy array with t[j] = 1.0 and t[j] = 0.0 if the j-th created point belongs to the upper half and to\n",
    "           the lower half of the moon, respectively\"\"\"\n",
    "    p = np.zeros((2*n,2))\n",
    "    t = np.zeros(2*n)\n",
    "\n",
    "    rmin = r - w/2\n",
    "    rmax = r + w/2\n",
    "    xmin = -rmax\n",
    "    xmax =  rmax\n",
    "\n",
    "    for k in range(0,n):\n",
    "        x = xmin + (xmax - xmin) * np.random.uniform(0, 1)\n",
    "        if math.fabs(x) < rmin:\n",
    "            ymin = math.sqrt(math.pow(rmin,2.0) - math.pow(x,2.0))\n",
    "        else:\n",
    "            ymin = 0.0\n",
    "        ymax = math.sqrt(math.pow(rmax,2.0) - math.pow(x,2.0))\n",
    "        y = ymin + (ymax - ymin) * np.random.uniform(0, 1)\n",
    "        p[2*k,0] = x\n",
    "        p[2*k,1] = y\n",
    "        t[2*k] = 1.0\n",
    "        p[2*k+1,0] = x + r\n",
    "        p[2*k+1,1] = -y - d\n",
    "        t[2*k+1] = 0.0\n",
    "\n",
    "    idx = np.random.permutation(2*n)\n",
    "    pRnd = np.zeros((2*n,2))\n",
    "    tRnd = np.zeros(2*n)\n",
    "    for k in range(0,2*n):\n",
    "        pRnd[k,] = p[idx[k],]\n",
    "        tRnd[k] = t[idx[k]]\n",
    "    return (pRnd,tRnd)"
   ]
  },
  {
   "cell_type": "code",
   "execution_count": 24,
   "metadata": {},
   "outputs": [],
   "source": [
    "def plotHalfMoon(p,t):\n",
    "    \"\"\"plots half moon data\"\"\"\n",
    "    xPlus = []\n",
    "    yPlus = []\n",
    "    xMinus = []\n",
    "    yMinus = []\n",
    "    for k in range(0,p.shape[0]):\n",
    "        if t[k] > 0.5:\n",
    "            xPlus.append(p[k,0])\n",
    "            yPlus.append(p[k,1])\n",
    "        else:\n",
    "            xMinus.append(p[k,0])\n",
    "            yMinus.append(p[k,1])\n",
    "    plt.scatter(xPlus, yPlus, color='red', marker='x')\n",
    "    plt.scatter(xMinus, yMinus, color='blue', marker='x')\n",
    "    plt.gca().set_aspect('equal', adjustable='box')\n",
    "    plt.show()"
   ]
  },
  {
   "cell_type": "code",
   "execution_count": 25,
   "metadata": {},
   "outputs": [],
   "source": [
    "hm = halfMoon(200, 10, 5, 5)"
   ]
  },
  {
   "cell_type": "code",
   "execution_count": 26,
   "metadata": {},
   "outputs": [
    {
     "data": {
      "image/png": "[encoded data removed]",
      "text/plain": [
       "<Figure size 432x288 with 1 Axes>"
      ]
     },
     "metadata": {
      "needs_background": "light"
     },
     "output_type": "display_data"
    }
   ],
   "source": [
    "plotHalfMoon(hm[0], hm[1])"
   ]
  }
 ],
 "metadata": {
  "interpreter": {
   "hash": "f761d2206074d82dd8e41bd143266f9d3dcf5f45b684a45cd98ca9fdc4a46ee0"
  },
  "kernelspec": {
   "display_name": "Python 3.10.1 64-bit",
   "language": "python",
   "name": "python3"
  },
  "language_info": {
   "codemirror_mode": {
    "name": "ipython",
    "version": 3
   },
   "file_extension": ".py",
   "mimetype": "text/x-python",
   "name": "python",
   "nbconvert_exporter": "python",
   "pygments_lexer": "ipython3",
   "version": "3.10.1"
  },
  "orig_nbformat": 4
 },
 "nbformat": 4,
 "nbformat_minor": 2
}
