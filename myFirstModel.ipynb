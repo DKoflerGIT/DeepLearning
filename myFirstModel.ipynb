{
 "cells": [
  {
   "cell_type": "code",
   "execution_count": 118,
   "metadata": {},
   "outputs": [],
   "source": [
    "import numpy as np\n",
    "import random\n",
    "import math"
   ]
  },
  {
   "cell_type": "code",
   "execution_count": 119,
   "metadata": {},
   "outputs": [
    {
     "data": {
      "text/plain": [
       "array([0., 0., 0.])"
      ]
     },
     "execution_count": 119,
     "metadata": {},
     "output_type": "execute_result"
    }
   ],
   "source": [
    "# input as vector\n",
    "input = np.zeros(3)\n",
    "input"
   ]
  },
  {
   "cell_type": "code",
   "execution_count": 120,
   "metadata": {},
   "outputs": [],
   "source": [
    "neuron_count = 7"
   ]
  },
  {
   "cell_type": "code",
   "execution_count": 121,
   "metadata": {},
   "outputs": [],
   "source": [
    "# connection matrix\n",
    "c = [\n",
    "    [0, 0, 0, 1, 1, 1, 0],\n",
    "    [0, 0, 0, 1, 1, 1, 0],\n",
    "    [0, 0, 0, 1, 1, 1, 0],\n",
    "    [1, 1, 1, 0, 0, 0, 1],\n",
    "    [1, 1, 1, 0, 0, 0, 1],\n",
    "    [1, 1, 1, 0, 0, 0, 1],\n",
    "    [0, 0, 0, 1, 1, 1, 0],\n",
    "]"
   ]
  },
  {
   "cell_type": "code",
   "execution_count": 122,
   "metadata": {},
   "outputs": [
    {
     "data": {
      "text/plain": [
       "array([[0.        , 0.        , 0.        , 0.76502836, 0.55170277,\n",
       "        0.27699731, 0.        ],\n",
       "       [0.        , 0.        , 0.        , 0.62135438, 0.64368912,\n",
       "        0.15778056, 0.        ],\n",
       "       [0.        , 0.        , 0.        , 0.19210126, 0.70116723,\n",
       "        0.65629181, 0.        ],\n",
       "       [0.76502836, 0.62135438, 0.19210126, 0.        , 0.        ,\n",
       "        0.        , 0.21602602],\n",
       "       [0.55170277, 0.64368912, 0.70116723, 0.        , 0.        ,\n",
       "        0.        , 0.65029992],\n",
       "       [0.27699731, 0.15778056, 0.65629181, 0.        , 0.        ,\n",
       "        0.        , 0.79687258],\n",
       "       [0.        , 0.        , 0.        , 0.21602602, 0.65029992,\n",
       "        0.79687258, 0.        ]])"
      ]
     },
     "execution_count": 122,
     "metadata": {},
     "output_type": "execute_result"
    }
   ],
   "source": [
    "# weight matrix\n",
    "w = np.zeros((neuron_count, neuron_count))\n",
    "\n",
    "for i in range(neuron_count):\n",
    "    for j in range(neuron_count):\n",
    "        if w[j,i] == 0:\n",
    "            w[i][j] = random.random() if c[i][j] != 0 else 0\n",
    "        else:\n",
    "            w[i][j] = w[j][i]      \n",
    "\n",
    "w"
   ]
  },
  {
   "cell_type": "code",
   "execution_count": 123,
   "metadata": {},
   "outputs": [],
   "source": [
    "# neuron class\n",
    "class neuron():\n",
    "    def __init__(self, id, o = 0):\n",
    "        self.id = id\n",
    "        self.o_j = o\n",
    "        self.theta_j = random.random()\n",
    "\n",
    "    def update(self):\n",
    "        # propagate using weighted sum\n",
    "        net_j = 0\n",
    "        for i in range(neuron_count):\n",
    "            if i < self.id:\n",
    "                net_j += neurons[i].o_j * w[i][self.id]\n",
    "\n",
    "        # activate using sigmoid\n",
    "        a_j = 1 / (1 + math.exp(-net_j))\n",
    "\n",
    "        # output using identity\n",
    "        self.o_j = a_j\n"
   ]
  },
  {
   "cell_type": "code",
   "execution_count": 124,
   "metadata": {},
   "outputs": [],
   "source": [
    "# neurons as vector\n",
    "neurons = []\n",
    "for i in range(neuron_count):\n",
    "    if i < 3:\n",
    "        neurons.append(neuron(i, 2))\n",
    "    else:\n",
    "        neurons.append(neuron(i))"
   ]
  },
  {
   "cell_type": "code",
   "execution_count": 127,
   "metadata": {},
   "outputs": [
    {
     "name": "stdout",
     "output_type": "stream",
     "text": [
      "2\n",
      "2\n",
      "2\n",
      "0.9591824047664234\n",
      "0.9779709567698311\n",
      "0.89863411597067\n",
      "0.8262499671576902\n"
     ]
    }
   ],
   "source": [
    "for n in neurons:\n",
    "    print(n.o_j)"
   ]
  },
  {
   "cell_type": "code",
   "execution_count": 126,
   "metadata": {},
   "outputs": [],
   "source": [
    "for ne in range(neuron_count):\n",
    "    if ne >= 3:  \n",
    "        neurons[ne].update()"
   ]
  }
 ],
 "metadata": {
  "interpreter": {
   "hash": "f761d2206074d82dd8e41bd143266f9d3dcf5f45b684a45cd98ca9fdc4a46ee0"
  },
  "kernelspec": {
   "display_name": "Python 3.10.1 64-bit",
   "language": "python",
   "name": "python3"
  },
  "language_info": {
   "codemirror_mode": {
    "name": "ipython",
    "version": 3
   },
   "file_extension": ".py",
   "mimetype": "text/x-python",
   "name": "python",
   "nbconvert_exporter": "python",
   "pygments_lexer": "ipython3",
   "version": "3.10.1"
  },
  "orig_nbformat": 4
 },
 "nbformat": 4,
 "nbformat_minor": 2
}
